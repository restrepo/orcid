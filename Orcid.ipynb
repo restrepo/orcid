{
  "nbformat": 4,
  "nbformat_minor": 0,
  "metadata": {
    "colab": {
      "name": "Orcid.ipynb",
      "version": "0.3.2",
      "provenance": [],
      "collapsed_sections": [],
      "include_colab_link": true
    },
    "kernelspec": {
      "display_name": "Python 3",
      "language": "python",
      "name": "python3"
    }
  },
  "cells": [
    {
      "cell_type": "markdown",
      "metadata": {
        "id": "view-in-github",
        "colab_type": "text"
      },
      "source": [
        "[View in Colaboratory](https://colab.research.google.com/github/restrepo/orcid/blob/master/Orcid.ipynb)"
      ]
    },
    {
      "metadata": {
        "id": "NbgoAgxSKSGU",
        "colab_type": "text"
      },
      "cell_type": "markdown",
      "source": [
        "# Búsqueda de autores en Orcid\n",
        "See [search-orcid-registry](http://members.orcid.org/api/tutorial/search-orcid-registry)\n",
        "\n",
        "ORCID: https://github.com/ORCID/python-orcid"
      ]
    },
    {
      "metadata": {
        "id": "tyg2sHSoMq1u",
        "colab_type": "text"
      },
      "cell_type": "markdown",
      "source": [
        "## Instalar paquetes y cargar datos"
      ]
    },
    {
      "metadata": {
        "id": "M0IrBXEOKj-V",
        "colab_type": "code",
        "colab": {}
      },
      "cell_type": "code",
      "source": [
        "!pip install wosplus openpyxl xlrd orcid > /dev/null"
      ],
      "execution_count": 0,
      "outputs": []
    },
    {
      "metadata": {
        "id": "pQ35cEHJKSGV",
        "colab_type": "code",
        "colab": {
          "base_uri": "https://localhost:8080/",
          "height": 34
        },
        "outputId": "4f618123-a20b-45ea-fe7b-6178abe59e3a"
      },
      "cell_type": "code",
      "source": [
        "%%writefile drive.cfg\n",
        "[FILES]\n",
        "Base_de_datos_investigadores_Definitiva.csv=12oalgUeKhpvzkTPBP8pXCeHTrF-KO223dy9ov9w9QKs "
      ],
      "execution_count": 20,
      "outputs": [
        {
          "output_type": "stream",
          "text": [
            "Overwriting drive.cfg\n"
          ],
          "name": "stdout"
        }
      ]
    },
    {
      "metadata": {
        "id": "H0OCumVvKSGa",
        "colab_type": "code",
        "colab": {}
      },
      "cell_type": "code",
      "source": [
        "import requests\n",
        "import pandas as pd\n",
        "import wosplus as wp\n",
        "pd.set_option('display.max_colwidth',500)"
      ],
      "execution_count": 0,
      "outputs": []
    },
    {
      "metadata": {
        "id": "XSMv61khKSGc",
        "colab_type": "code",
        "colab": {}
      },
      "cell_type": "code",
      "source": [
        "bdi=wp.read_drive_excel('Base_de_datos_investigadores_Definitiva.csv')"
      ],
      "execution_count": 0,
      "outputs": []
    },
    {
      "metadata": {
        "id": "tg25DTZkKSGe",
        "colab_type": "code",
        "colab": {
          "base_uri": "https://localhost:8080/",
          "height": 107
        },
        "outputId": "a62fcedf-7cb2-474f-9606-23a508d03971"
      },
      "cell_type": "code",
      "source": [
        "bdi[:2]"
      ],
      "execution_count": 23,
      "outputs": [
        {
          "output_type": "execute_result",
          "data": {
            "text/html": [
              "<div>\n",
              "<style scoped>\n",
              "    .dataframe tbody tr th:only-of-type {\n",
              "        vertical-align: middle;\n",
              "    }\n",
              "\n",
              "    .dataframe tbody tr th {\n",
              "        vertical-align: top;\n",
              "    }\n",
              "\n",
              "    .dataframe thead th {\n",
              "        text-align: right;\n",
              "    }\n",
              "</style>\n",
              "<table border=\"1\" class=\"dataframe\">\n",
              "  <thead>\n",
              "    <tr style=\"text-align: right;\">\n",
              "      <th></th>\n",
              "      <th>CÉDULA</th>\n",
              "      <th>NOMBRE COMPLETO</th>\n",
              "      <th>NOMBRES</th>\n",
              "      <th>PRIMER APELLIDO</th>\n",
              "      <th>SEGUNDO APELLIDO</th>\n",
              "      <th>FACULTAD</th>\n",
              "      <th>DEPARTAMENTO</th>\n",
              "      <th>GRUPO</th>\n",
              "    </tr>\n",
              "  </thead>\n",
              "  <tbody>\n",
              "    <tr>\n",
              "      <th>0</th>\n",
              "      <td>71621971</td>\n",
              "      <td>Bernardo Maria Bustamante Cardona</td>\n",
              "      <td>Bernardo Maria</td>\n",
              "      <td>Bustamante</td>\n",
              "      <td>Cardona</td>\n",
              "      <td>Facultad de Artes</td>\n",
              "      <td>Departamento de Artes Visuales</td>\n",
              "      <td>Arteducación</td>\n",
              "    </tr>\n",
              "    <tr>\n",
              "      <th>1</th>\n",
              "      <td>71652139</td>\n",
              "      <td>Carlos Mario Jaramillo Ramirez</td>\n",
              "      <td>Carlos Mario</td>\n",
              "      <td>Jaramillo</td>\n",
              "      <td>Ramirez</td>\n",
              "      <td>Facultad de Artes</td>\n",
              "      <td>Departamento de Artes Visuales</td>\n",
              "      <td>DIDARTE. Didáctica de las artes</td>\n",
              "    </tr>\n",
              "  </tbody>\n",
              "</table>\n",
              "</div>"
            ],
            "text/plain": [
              "     CÉDULA                    NOMBRE COMPLETO          NOMBRES  \\\n",
              "0  71621971  Bernardo Maria Bustamante Cardona  Bernardo Maria    \n",
              "1  71652139     Carlos Mario Jaramillo Ramirez    Carlos Mario    \n",
              "\n",
              "  PRIMER APELLIDO SEGUNDO APELLIDO           FACULTAD  \\\n",
              "0      Bustamante          Cardona  Facultad de Artes   \n",
              "1       Jaramillo          Ramirez  Facultad de Artes   \n",
              "\n",
              "                     DEPARTAMENTO                            GRUPO  \n",
              "0  Departamento de Artes Visuales                    Arteducación   \n",
              "1  Departamento de Artes Visuales  DIDARTE. Didáctica de las artes  "
            ]
          },
          "metadata": {
            "tags": []
          },
          "execution_count": 23
        }
      ]
    },
    {
      "metadata": {
        "id": "HqZSNBiJKSGh",
        "colab_type": "text"
      },
      "cell_type": "markdown",
      "source": [
        "## Obtener el token del API"
      ]
    },
    {
      "metadata": {
        "id": "6ItTU9f3KSGi",
        "colab_type": "code",
        "colab": {}
      },
      "cell_type": "code",
      "source": [
        "# From https://github.com/ORCID/python-orcid\n",
        "import orcid\n",
        "api = orcid.PublicAPI('APP-R8J5P57TTE983P54', 'c6e1dd48-80d3-4dd9-9336-fc41728ac8fe', sandbox=False)\n",
        "#token = api.get_token_from_authorization_code(authorization_code,\n",
        "#                                              redirect_uri)\n"
      ],
      "execution_count": 0,
      "outputs": []
    },
    {
      "metadata": {
        "id": "8ychQohhKSGk",
        "colab_type": "code",
        "colab": {}
      },
      "cell_type": "code",
      "source": [
        "search_token = api.get_search_token_from_orcid()"
      ],
      "execution_count": 0,
      "outputs": []
    },
    {
      "metadata": {
        "id": "Qcv-JSDKKSGm",
        "colab_type": "code",
        "colab": {
          "base_uri": "https://localhost:8080/",
          "height": 34
        },
        "outputId": "7577aca3-0b39-4a66-9808-d4874b369970"
      },
      "cell_type": "code",
      "source": [
        "search_token"
      ],
      "execution_count": 26,
      "outputs": [
        {
          "output_type": "execute_result",
          "data": {
            "text/plain": [
              "'22121193-5ce4-4c4e-938d-629d5dcf6af9'"
            ]
          },
          "metadata": {
            "tags": []
          },
          "execution_count": 26
        }
      ]
    },
    {
      "metadata": {
        "id": "0TnxILt2KSGp",
        "colab_type": "text"
      },
      "cell_type": "markdown",
      "source": [
        "https://pub.orcid.org"
      ]
    },
    {
      "metadata": {
        "id": "Pd6GqJp8KSGq",
        "colab_type": "text"
      },
      "cell_type": "markdown",
      "source": [
        "### Comprobar que funciona"
      ]
    },
    {
      "metadata": {
        "id": "HT078guTKSGq",
        "colab_type": "code",
        "colab": {}
      },
      "cell_type": "code",
      "source": [
        "HEADERS_orcid={'Content-type': 'application/vnd.orcid+json',\n",
        "    'Access token': search_token}"
      ],
      "execution_count": 0,
      "outputs": []
    },
    {
      "metadata": {
        "id": "1ixIDVeFKSGt",
        "colab_type": "code",
        "colab": {}
      },
      "cell_type": "code",
      "source": [
        "r=requests.get('https://pub.orcid.org/v2.1/search/?q=newman', headers=HEADERS_orcid)"
      ],
      "execution_count": 0,
      "outputs": []
    },
    {
      "metadata": {
        "id": "yAD_EA3TKSGv",
        "colab_type": "text"
      },
      "cell_type": "markdown",
      "source": [
        "Muestre los dos primeros elementos de la lista de resultados"
      ]
    },
    {
      "metadata": {
        "id": "wWt3ATj2KSGv",
        "colab_type": "code",
        "colab": {
          "base_uri": "https://localhost:8080/",
          "height": 107
        },
        "outputId": "0c86d904-a2a8-41ab-d78b-b99c961c50f3"
      },
      "cell_type": "code",
      "source": [
        "pd.read_json(r.text)[:2]"
      ],
      "execution_count": 29,
      "outputs": [
        {
          "output_type": "execute_result",
          "data": {
            "text/html": [
              "<div>\n",
              "<style scoped>\n",
              "    .dataframe tbody tr th:only-of-type {\n",
              "        vertical-align: middle;\n",
              "    }\n",
              "\n",
              "    .dataframe tbody tr th {\n",
              "        vertical-align: top;\n",
              "    }\n",
              "\n",
              "    .dataframe thead th {\n",
              "        text-align: right;\n",
              "    }\n",
              "</style>\n",
              "<table border=\"1\" class=\"dataframe\">\n",
              "  <thead>\n",
              "    <tr style=\"text-align: right;\">\n",
              "      <th></th>\n",
              "      <th>num-found</th>\n",
              "      <th>result</th>\n",
              "    </tr>\n",
              "  </thead>\n",
              "  <tbody>\n",
              "    <tr>\n",
              "      <th>0</th>\n",
              "      <td>948</td>\n",
              "      <td>{'orcid-identifier': {'uri': 'https://orcid.or...</td>\n",
              "    </tr>\n",
              "    <tr>\n",
              "      <th>1</th>\n",
              "      <td>948</td>\n",
              "      <td>{'orcid-identifier': {'uri': 'https://orcid.or...</td>\n",
              "    </tr>\n",
              "  </tbody>\n",
              "</table>\n",
              "</div>"
            ],
            "text/plain": [
              "   num-found                                             result\n",
              "0        948  {'orcid-identifier': {'uri': 'https://orcid.or...\n",
              "1        948  {'orcid-identifier': {'uri': 'https://orcid.or..."
            ]
          },
          "metadata": {
            "tags": []
          },
          "execution_count": 29
        }
      ]
    },
    {
      "metadata": {
        "id": "7IqmtcXyKSGy",
        "colab_type": "text"
      },
      "cell_type": "markdown",
      "source": [
        "## Definir la función de búsqueda. \n",
        "Ver ayuda en la documentación del API"
      ]
    },
    {
      "metadata": {
        "id": "t3pOn2asKSGy",
        "colab_type": "code",
        "colab": {}
      },
      "cell_type": "code",
      "source": [
        "import pandas as pd\n",
        "import time\n",
        "import random\n",
        "def search_orcid(q='family-name:Taylor+AND+given-names:Michael',search_token=''):\n",
        "    '''\n",
        "    Search API orcid in json for query q: (see examples here: http://members.orcid.org/api/tutorial/search-orcid-registry)\n",
        "    Example: \n",
        "    q=family-name:Taylor+AND+given-names:Michael\n",
        "    '''\n",
        "    HEADERS_orcid={'Content-type': 'application/vnd.orcid+json',\n",
        "    'Access token': search_token}\n",
        "    r=requests.get('https://pub.orcid.org/v2.1/search/?q={}'.format(q),\n",
        "                   headers=HEADERS_orcid)\n",
        "    \n",
        "    # wait for next request\n",
        "    time.sleep(random.randint(1,3))\n",
        "    if r.status_code==200:\n",
        "        return pd.read_json(r.text)\n",
        "    else:\n",
        "        return pd.DataFrame()"
      ],
      "execution_count": 0,
      "outputs": []
    },
    {
      "metadata": {
        "id": "j_BrE9O7KSG1",
        "colab_type": "text"
      },
      "cell_type": "markdown",
      "source": [
        "## Formulas de búsqueda"
      ]
    },
    {
      "metadata": {
        "id": "BK2RAD-6M0L2",
        "colab_type": "text"
      },
      "cell_type": "markdown",
      "source": [
        "### Búsqueda por nombre completo y afiliación"
      ]
    },
    {
      "metadata": {
        "id": "AtrtGkleKSG1",
        "colab_type": "text"
      },
      "cell_type": "markdown",
      "source": [
        "Muestra de búsqueda por nombre para investigador de la UdeA"
      ]
    },
    {
      "metadata": {
        "id": "e4WVfIamKSG2",
        "colab_type": "code",
        "colab": {}
      },
      "cell_type": "code",
      "source": [
        "df=search_orcid('family-name:Restrepo+AND+given-names:Diego+AND+affiliation-org-name:Universidad+de+Antioquia',\n",
        "                search_token)#+AND+given-names:Diego')#+AND+affiliation-org-name:Universidad+de+Antioquia')"
      ],
      "execution_count": 0,
      "outputs": []
    },
    {
      "metadata": {
        "id": "lRYmhFJ_KSG6",
        "colab_type": "text"
      },
      "cell_type": "markdown",
      "source": [
        "Muestre los primeros dos resultados de la búsqueda"
      ]
    },
    {
      "metadata": {
        "id": "WDyNrIMYKSG7",
        "colab_type": "code",
        "colab": {
          "base_uri": "https://localhost:8080/",
          "height": 107
        },
        "outputId": "77e79c9b-47fd-4163-ed3f-77ecc11f7a37"
      },
      "cell_type": "code",
      "source": [
        "df[:2]"
      ],
      "execution_count": 32,
      "outputs": [
        {
          "output_type": "execute_result",
          "data": {
            "text/html": [
              "<div>\n",
              "<style scoped>\n",
              "    .dataframe tbody tr th:only-of-type {\n",
              "        vertical-align: middle;\n",
              "    }\n",
              "\n",
              "    .dataframe tbody tr th {\n",
              "        vertical-align: top;\n",
              "    }\n",
              "\n",
              "    .dataframe thead th {\n",
              "        text-align: right;\n",
              "    }\n",
              "</style>\n",
              "<table border=\"1\" class=\"dataframe\">\n",
              "  <thead>\n",
              "    <tr style=\"text-align: right;\">\n",
              "      <th></th>\n",
              "      <th>num-found</th>\n",
              "      <th>result</th>\n",
              "    </tr>\n",
              "  </thead>\n",
              "  <tbody>\n",
              "    <tr>\n",
              "      <th>0</th>\n",
              "      <td>6</td>\n",
              "      <td>{'orcid-identifier': {'uri': 'https://orcid.or...</td>\n",
              "    </tr>\n",
              "    <tr>\n",
              "      <th>1</th>\n",
              "      <td>6</td>\n",
              "      <td>{'orcid-identifier': {'uri': 'https://orcid.or...</td>\n",
              "    </tr>\n",
              "  </tbody>\n",
              "</table>\n",
              "</div>"
            ],
            "text/plain": [
              "   num-found                                             result\n",
              "0          6  {'orcid-identifier': {'uri': 'https://orcid.or...\n",
              "1          6  {'orcid-identifier': {'uri': 'https://orcid.or..."
            ]
          },
          "metadata": {
            "tags": []
          },
          "execution_count": 32
        }
      ]
    },
    {
      "metadata": {
        "id": "izo-hzYcKSG-",
        "colab_type": "text"
      },
      "cell_type": "markdown",
      "source": [
        "#### Prepare búsqueda investigadores UdeA"
      ]
    },
    {
      "metadata": {
        "id": "uAaI_5A_KSG_",
        "colab_type": "code",
        "colab": {}
      },
      "cell_type": "code",
      "source": [
        "apellido='Restrepo'\n",
        "nombre='Diego'\n",
        "affiliation='Universidad de Antioquia'"
      ],
      "execution_count": 0,
      "outputs": []
    },
    {
      "metadata": {
        "id": "bol8H_fyKSHC",
        "colab_type": "code",
        "colab": {}
      },
      "cell_type": "code",
      "source": [
        "df=search_orcid('family-name:{}+AND+given-names:{}+AND+affiliation-org-name:{}'.format(\n",
        "                  apellido.replace(' ','+'), nombre.replace(' ','+'), affiliation.replace(' ','+') ) ,\n",
        "                search_token)"
      ],
      "execution_count": 0,
      "outputs": []
    },
    {
      "metadata": {
        "id": "bXykhPIfKSHE",
        "colab_type": "code",
        "colab": {
          "base_uri": "https://localhost:8080/",
          "height": 107
        },
        "outputId": "5ef86806-47d2-4452-ee89-a029d2a8fff8"
      },
      "cell_type": "code",
      "source": [
        "df[:2]"
      ],
      "execution_count": 36,
      "outputs": [
        {
          "output_type": "execute_result",
          "data": {
            "text/html": [
              "<div>\n",
              "<style scoped>\n",
              "    .dataframe tbody tr th:only-of-type {\n",
              "        vertical-align: middle;\n",
              "    }\n",
              "\n",
              "    .dataframe tbody tr th {\n",
              "        vertical-align: top;\n",
              "    }\n",
              "\n",
              "    .dataframe thead th {\n",
              "        text-align: right;\n",
              "    }\n",
              "</style>\n",
              "<table border=\"1\" class=\"dataframe\">\n",
              "  <thead>\n",
              "    <tr style=\"text-align: right;\">\n",
              "      <th></th>\n",
              "      <th>num-found</th>\n",
              "      <th>result</th>\n",
              "    </tr>\n",
              "  </thead>\n",
              "  <tbody>\n",
              "    <tr>\n",
              "      <th>0</th>\n",
              "      <td>6</td>\n",
              "      <td>{'orcid-identifier': {'uri': 'https://orcid.or...</td>\n",
              "    </tr>\n",
              "    <tr>\n",
              "      <th>1</th>\n",
              "      <td>6</td>\n",
              "      <td>{'orcid-identifier': {'uri': 'https://orcid.or...</td>\n",
              "    </tr>\n",
              "  </tbody>\n",
              "</table>\n",
              "</div>"
            ],
            "text/plain": [
              "   num-found                                             result\n",
              "0          6  {'orcid-identifier': {'uri': 'https://orcid.or...\n",
              "1          6  {'orcid-identifier': {'uri': 'https://orcid.or..."
            ]
          },
          "metadata": {
            "tags": []
          },
          "execution_count": 36
        }
      ]
    },
    {
      "metadata": {
        "id": "MyVgHaFHNyWH",
        "colab_type": "text"
      },
      "cell_type": "markdown",
      "source": [
        "### Ensayo con una entrada de la base de datos de profesores"
      ]
    },
    {
      "metadata": {
        "id": "90iM34obKSHH",
        "colab_type": "text"
      },
      "cell_type": "markdown",
      "source": [
        "Además de afiliación:\n",
        "1. Nombres y apellidos completo\n",
        "2. Primer nombre y primer apellido\n",
        "3. Segundo nombre y primer appellido\n",
        "\n",
        "Se va a hacer un loop sobre la base de datos de investigadores de la UdeA. Se ilustrará primero lo que pasa con la primera entrada  de la lista cuando se búsca de la forma 1."
      ]
    },
    {
      "metadata": {
        "id": "kr1kk__oKSHI",
        "colab_type": "code",
        "colab": {
          "base_uri": "https://localhost:8080/",
          "height": 77
        },
        "outputId": "725a01ee-a83f-4c00-dbf7-6e76c308f03f"
      },
      "cell_type": "code",
      "source": [
        "bdi[:1]"
      ],
      "execution_count": 37,
      "outputs": [
        {
          "output_type": "execute_result",
          "data": {
            "text/html": [
              "<div>\n",
              "<style scoped>\n",
              "    .dataframe tbody tr th:only-of-type {\n",
              "        vertical-align: middle;\n",
              "    }\n",
              "\n",
              "    .dataframe tbody tr th {\n",
              "        vertical-align: top;\n",
              "    }\n",
              "\n",
              "    .dataframe thead th {\n",
              "        text-align: right;\n",
              "    }\n",
              "</style>\n",
              "<table border=\"1\" class=\"dataframe\">\n",
              "  <thead>\n",
              "    <tr style=\"text-align: right;\">\n",
              "      <th></th>\n",
              "      <th>CÉDULA</th>\n",
              "      <th>NOMBRE COMPLETO</th>\n",
              "      <th>NOMBRES</th>\n",
              "      <th>PRIMER APELLIDO</th>\n",
              "      <th>SEGUNDO APELLIDO</th>\n",
              "      <th>FACULTAD</th>\n",
              "      <th>DEPARTAMENTO</th>\n",
              "      <th>GRUPO</th>\n",
              "    </tr>\n",
              "  </thead>\n",
              "  <tbody>\n",
              "    <tr>\n",
              "      <th>0</th>\n",
              "      <td>71621971</td>\n",
              "      <td>Bernardo Maria Bustamante Cardona</td>\n",
              "      <td>Bernardo Maria</td>\n",
              "      <td>Bustamante</td>\n",
              "      <td>Cardona</td>\n",
              "      <td>Facultad de Artes</td>\n",
              "      <td>Departamento de Artes Visuales</td>\n",
              "      <td>Arteducación</td>\n",
              "    </tr>\n",
              "  </tbody>\n",
              "</table>\n",
              "</div>"
            ],
            "text/plain": [
              "     CÉDULA                    NOMBRE COMPLETO          NOMBRES  \\\n",
              "0  71621971  Bernardo Maria Bustamante Cardona  Bernardo Maria    \n",
              "\n",
              "  PRIMER APELLIDO SEGUNDO APELLIDO           FACULTAD  \\\n",
              "0      Bustamante          Cardona  Facultad de Artes   \n",
              "\n",
              "                     DEPARTAMENTO          GRUPO  \n",
              "0  Departamento de Artes Visuales  Arteducación   "
            ]
          },
          "metadata": {
            "tags": []
          },
          "execution_count": 37
        }
      ]
    },
    {
      "metadata": {
        "id": "dLQO5DrlKSHL",
        "colab_type": "code",
        "colab": {}
      },
      "cell_type": "code",
      "source": [
        "i=0"
      ],
      "execution_count": 0,
      "outputs": []
    },
    {
      "metadata": {
        "id": "yhp5yqaAKSHM",
        "colab_type": "code",
        "colab": {
          "base_uri": "https://localhost:8080/",
          "height": 34
        },
        "outputId": "4fadfac3-2aba-4654-a4bf-efa22d0122e2"
      },
      "cell_type": "code",
      "source": [
        "bdi.loc[i,'NOMBRES'].strip()"
      ],
      "execution_count": 39,
      "outputs": [
        {
          "output_type": "execute_result",
          "data": {
            "text/plain": [
              "'Bernardo Maria'"
            ]
          },
          "metadata": {
            "tags": []
          },
          "execution_count": 39
        }
      ]
    },
    {
      "metadata": {
        "id": "o-BaOafVKSHO",
        "colab_type": "code",
        "colab": {
          "base_uri": "https://localhost:8080/",
          "height": 34
        },
        "outputId": "05ef01f8-18cc-481c-caf0-dda096d2b858"
      },
      "cell_type": "code",
      "source": [
        "bdi.loc[i,'PRIMER APELLIDO']+' '+bdi.loc[i,'SEGUNDO APELLIDO']"
      ],
      "execution_count": 40,
      "outputs": [
        {
          "output_type": "execute_result",
          "data": {
            "text/plain": [
              "'Bustamante Cardona'"
            ]
          },
          "metadata": {
            "tags": []
          },
          "execution_count": 40
        }
      ]
    },
    {
      "metadata": {
        "id": "CSvE9WrNKSHQ",
        "colab_type": "code",
        "colab": {}
      },
      "cell_type": "code",
      "source": [
        "apellido=bdi.loc[i,'PRIMER APELLIDO'].strip()\n",
        "apellido_completo=apellido+' '+bdi.loc[i,'SEGUNDO APELLIDO'].strip()\n",
        "nombre_completo=bdi.loc[i,'NOMBRES'].strip()\n",
        "affiliation='Universidad de Antioquia'\n",
        "df=search_orcid('family-name:{}+AND+given-names:{}+AND+affiliation-org-name:{}'.format(\n",
        "                  apellido_completo.replace(' ','+'), \n",
        "                  nombre_completo.replace(' ','+'), affiliation.replace(' ','+') ) ,\n",
        "                search_token)"
      ],
      "execution_count": 0,
      "outputs": []
    },
    {
      "metadata": {
        "id": "7AKAOiyHKSHT",
        "colab_type": "code",
        "colab": {
          "base_uri": "https://localhost:8080/",
          "height": 47
        },
        "outputId": "ab2aeb42-cf31-409c-d735-e34ff1567f8a"
      },
      "cell_type": "code",
      "source": [
        "df"
      ],
      "execution_count": 42,
      "outputs": [
        {
          "output_type": "execute_result",
          "data": {
            "text/html": [
              "<div>\n",
              "<style scoped>\n",
              "    .dataframe tbody tr th:only-of-type {\n",
              "        vertical-align: middle;\n",
              "    }\n",
              "\n",
              "    .dataframe tbody tr th {\n",
              "        vertical-align: top;\n",
              "    }\n",
              "\n",
              "    .dataframe thead th {\n",
              "        text-align: right;\n",
              "    }\n",
              "</style>\n",
              "<table border=\"1\" class=\"dataframe\">\n",
              "  <thead>\n",
              "    <tr style=\"text-align: right;\">\n",
              "      <th></th>\n",
              "      <th>num-found</th>\n",
              "      <th>result</th>\n",
              "    </tr>\n",
              "  </thead>\n",
              "  <tbody>\n",
              "  </tbody>\n",
              "</table>\n",
              "</div>"
            ],
            "text/plain": [
              "Empty DataFrame\n",
              "Columns: [num-found, result]\n",
              "Index: []"
            ]
          },
          "metadata": {
            "tags": []
          },
          "execution_count": 42
        }
      ]
    },
    {
      "metadata": {
        "id": "PG4XOJA1KSHV",
        "colab_type": "text"
      },
      "cell_type": "markdown",
      "source": [
        "Ahora intentamos con la búsqueda 2. \n",
        "\n",
        "Para ello añadimos una columna con el primer nombre al DataFrame"
      ]
    },
    {
      "metadata": {
        "id": "_WQXBolWKSHV",
        "colab_type": "code",
        "colab": {}
      },
      "cell_type": "code",
      "source": [
        "bdi['Primer_NOMBRE']=bdi.NOMBRES.str.split().str[0]\n",
        "nombre=bdi.loc[i,'Primer_NOMBRE'].strip()"
      ],
      "execution_count": 0,
      "outputs": []
    },
    {
      "metadata": {
        "id": "KRAgS00qKSHX",
        "colab_type": "code",
        "colab": {
          "base_uri": "https://localhost:8080/",
          "height": 77
        },
        "outputId": "d8e02b4b-c67e-492f-8b90-b0d6089bc415"
      },
      "cell_type": "code",
      "source": [
        "bdi[:1]"
      ],
      "execution_count": 44,
      "outputs": [
        {
          "output_type": "execute_result",
          "data": {
            "text/html": [
              "<div>\n",
              "<style scoped>\n",
              "    .dataframe tbody tr th:only-of-type {\n",
              "        vertical-align: middle;\n",
              "    }\n",
              "\n",
              "    .dataframe tbody tr th {\n",
              "        vertical-align: top;\n",
              "    }\n",
              "\n",
              "    .dataframe thead th {\n",
              "        text-align: right;\n",
              "    }\n",
              "</style>\n",
              "<table border=\"1\" class=\"dataframe\">\n",
              "  <thead>\n",
              "    <tr style=\"text-align: right;\">\n",
              "      <th></th>\n",
              "      <th>CÉDULA</th>\n",
              "      <th>NOMBRE COMPLETO</th>\n",
              "      <th>NOMBRES</th>\n",
              "      <th>PRIMER APELLIDO</th>\n",
              "      <th>SEGUNDO APELLIDO</th>\n",
              "      <th>FACULTAD</th>\n",
              "      <th>DEPARTAMENTO</th>\n",
              "      <th>GRUPO</th>\n",
              "      <th>Primer_NOMBRE</th>\n",
              "    </tr>\n",
              "  </thead>\n",
              "  <tbody>\n",
              "    <tr>\n",
              "      <th>0</th>\n",
              "      <td>71621971</td>\n",
              "      <td>Bernardo Maria Bustamante Cardona</td>\n",
              "      <td>Bernardo Maria</td>\n",
              "      <td>Bustamante</td>\n",
              "      <td>Cardona</td>\n",
              "      <td>Facultad de Artes</td>\n",
              "      <td>Departamento de Artes Visuales</td>\n",
              "      <td>Arteducación</td>\n",
              "      <td>Bernardo</td>\n",
              "    </tr>\n",
              "  </tbody>\n",
              "</table>\n",
              "</div>"
            ],
            "text/plain": [
              "     CÉDULA                    NOMBRE COMPLETO          NOMBRES  \\\n",
              "0  71621971  Bernardo Maria Bustamante Cardona  Bernardo Maria    \n",
              "\n",
              "  PRIMER APELLIDO SEGUNDO APELLIDO           FACULTAD  \\\n",
              "0      Bustamante          Cardona  Facultad de Artes   \n",
              "\n",
              "                     DEPARTAMENTO          GRUPO Primer_NOMBRE  \n",
              "0  Departamento de Artes Visuales  Arteducación       Bernardo  "
            ]
          },
          "metadata": {
            "tags": []
          },
          "execution_count": 44
        }
      ]
    },
    {
      "metadata": {
        "id": "L7GTw4vEKSHb",
        "colab_type": "code",
        "colab": {}
      },
      "cell_type": "code",
      "source": [
        "df=search_orcid('family-name:{}+AND+given-names:{}+AND+affiliation-org-name:{}'.format(\n",
        "                  apellido.replace(' ','+'), \n",
        "                  nombre.replace(' ','+'), affiliation.replace(' ','+') ) ,\n",
        "                search_token)"
      ],
      "execution_count": 0,
      "outputs": []
    },
    {
      "metadata": {
        "id": "4lt_z7GuKSHd",
        "colab_type": "code",
        "colab": {
          "base_uri": "https://localhost:8080/",
          "height": 47
        },
        "outputId": "d7ad4102-d887-4876-98ff-c5fba2dac762"
      },
      "cell_type": "code",
      "source": [
        "df"
      ],
      "execution_count": 46,
      "outputs": [
        {
          "output_type": "execute_result",
          "data": {
            "text/html": [
              "<div>\n",
              "<style scoped>\n",
              "    .dataframe tbody tr th:only-of-type {\n",
              "        vertical-align: middle;\n",
              "    }\n",
              "\n",
              "    .dataframe tbody tr th {\n",
              "        vertical-align: top;\n",
              "    }\n",
              "\n",
              "    .dataframe thead th {\n",
              "        text-align: right;\n",
              "    }\n",
              "</style>\n",
              "<table border=\"1\" class=\"dataframe\">\n",
              "  <thead>\n",
              "    <tr style=\"text-align: right;\">\n",
              "      <th></th>\n",
              "      <th>num-found</th>\n",
              "      <th>result</th>\n",
              "    </tr>\n",
              "  </thead>\n",
              "  <tbody>\n",
              "  </tbody>\n",
              "</table>\n",
              "</div>"
            ],
            "text/plain": [
              "Empty DataFrame\n",
              "Columns: [num-found, result]\n",
              "Index: []"
            ]
          },
          "metadata": {
            "tags": []
          },
          "execution_count": 46
        }
      ]
    },
    {
      "metadata": {
        "id": "dbmLis-IKSHf",
        "colab_type": "text"
      },
      "cell_type": "markdown",
      "source": [
        "Finalmente intentamos con la búsqueda 3."
      ]
    },
    {
      "metadata": {
        "id": "wOtfenjaKSHg",
        "colab_type": "code",
        "colab": {
          "base_uri": "https://localhost:8080/",
          "height": 34
        },
        "outputId": "38a176b0-7878-4161-b637-ae5c829d8d15"
      },
      "cell_type": "code",
      "source": [
        "bdi['Segundo_NOMBRE']=bdi.NOMBRES.str.split().str[1].fillna('')\n",
        "segundo_nombre=bdi.loc[i,'Segundo_NOMBRE'].strip()\n",
        "segundo_nombre"
      ],
      "execution_count": 47,
      "outputs": [
        {
          "output_type": "execute_result",
          "data": {
            "text/plain": [
              "'Maria'"
            ]
          },
          "metadata": {
            "tags": []
          },
          "execution_count": 47
        }
      ]
    },
    {
      "metadata": {
        "id": "Eyzaj_iIKSHj",
        "colab_type": "code",
        "colab": {}
      },
      "cell_type": "code",
      "source": [
        "df=search_orcid('family-name:{}+AND+given-names:{}+AND+affiliation-org-name:{}'.format(\n",
        "                  apellido.replace(' ','+'), \n",
        "                  segundo_nombre.replace(' ','+'), affiliation.replace(' ','+') ) ,\n",
        "                search_token)"
      ],
      "execution_count": 0,
      "outputs": []
    },
    {
      "metadata": {
        "id": "c1oJzpX2KSHk",
        "colab_type": "code",
        "colab": {
          "base_uri": "https://localhost:8080/",
          "height": 107
        },
        "outputId": "bdbb5f31-fe15-4635-c390-7abda59def9b"
      },
      "cell_type": "code",
      "source": [
        "df"
      ],
      "execution_count": 49,
      "outputs": [
        {
          "output_type": "execute_result",
          "data": {
            "text/html": [
              "<div>\n",
              "<style scoped>\n",
              "    .dataframe tbody tr th:only-of-type {\n",
              "        vertical-align: middle;\n",
              "    }\n",
              "\n",
              "    .dataframe tbody tr th {\n",
              "        vertical-align: top;\n",
              "    }\n",
              "\n",
              "    .dataframe thead th {\n",
              "        text-align: right;\n",
              "    }\n",
              "</style>\n",
              "<table border=\"1\" class=\"dataframe\">\n",
              "  <thead>\n",
              "    <tr style=\"text-align: right;\">\n",
              "      <th></th>\n",
              "      <th>num-found</th>\n",
              "      <th>result</th>\n",
              "    </tr>\n",
              "  </thead>\n",
              "  <tbody>\n",
              "    <tr>\n",
              "      <th>0</th>\n",
              "      <td>2</td>\n",
              "      <td>{'orcid-identifier': {'uri': 'https://orcid.or...</td>\n",
              "    </tr>\n",
              "    <tr>\n",
              "      <th>1</th>\n",
              "      <td>2</td>\n",
              "      <td>{'orcid-identifier': {'uri': 'https://orcid.or...</td>\n",
              "    </tr>\n",
              "  </tbody>\n",
              "</table>\n",
              "</div>"
            ],
            "text/plain": [
              "   num-found                                             result\n",
              "0          2  {'orcid-identifier': {'uri': 'https://orcid.or...\n",
              "1          2  {'orcid-identifier': {'uri': 'https://orcid.or..."
            ]
          },
          "metadata": {
            "tags": []
          },
          "execution_count": 49
        }
      ]
    },
    {
      "metadata": {
        "id": "s8dm-iQHOee_",
        "colab_type": "text"
      },
      "cell_type": "markdown",
      "source": [
        "## Búsqueda definitiva sobre todos los autores\n",
        "TODO: Hacer que el programa corra desde aquí"
      ]
    },
    {
      "metadata": {
        "id": "Nb0TKBfiKSHn",
        "colab_type": "code",
        "colab": {
          "base_uri": "https://localhost:8080/",
          "height": 123
        },
        "outputId": "21b630ff-4b4e-4701-e81f-315b4106514f"
      },
      "cell_type": "code",
      "source": [
        "dft=pd.DataFrame()\n",
        "affiliation='Universidad de Antioquia'\n",
        "# Adicionar dos columnas nuevas al DataFrame para las búsquedas 2 y 3:\n",
        "bdi['Primer_NOMBRE']=bdi.NOMBRES.str.split().str[0]\n",
        "bdi['Segundo_NOMBRE']=bdi.NOMBRES.str.split().str[1].fillna('')\n",
        "for i in bdi.index:\n",
        "    df=pd.DataFrame()\n",
        "    print(i)\n",
        "    nombre_completo=bdi.loc[i,'NOMBRES'].strip()\n",
        "    nombre=bdi.loc[i,'Primer_NOMBRE'].strip()\n",
        "    segundo_nombre=bdi.loc[i,'Segundo_NOMBRE'].strip()\n",
        "    apellido=bdi.loc[i,'PRIMER APELLIDO'].strip()\n",
        "    apellido_completo=apellido+' '+bdi.loc[i,'SEGUNDO APELLIDO'].strip()\n",
        "    #1. Busqueda en completo\n",
        "    df=search_orcid('family-name:{}+AND+given-names:{}+AND+affiliation-org-name:{}'.format(\n",
        "                  apellido_completo.replace(' ','+'), \n",
        "                  nombre_completo.replace(' ','+'), affiliation.replace(' ','+') ) ,\n",
        "                search_token)\n",
        "    if not df.empty:\n",
        "        df['forma']=1\n",
        "    \n",
        "    #2. Búsqueda de primer nombre y primer appellido\n",
        "    if df.empty:\n",
        "        df=search_orcid('family-name:{}+AND+given-names:{}+AND+affiliation-org-name:{}'.format(\n",
        "                  apellido.replace(' ','+'), \n",
        "                  nombre.replace(' ','+'), affiliation.replace(' ','+') ) ,\n",
        "                search_token)\n",
        "        if not df.empty:\n",
        "            df['forma']=2\n",
        "\n",
        "        #3. Búsqueda de segundo nombre y primer appellido     \n",
        "        if df.empty and segundo_nombre:\n",
        "            df=search_orcid('family-name:{}+AND+given-names:{}+AND+affiliation-org-name:{}'.format(\n",
        "                  apellido.replace(' ','+'), \n",
        "                  segundo_nombre.replace(' ','+'), affiliation.replace(' ','+') ) ,\n",
        "                search_token)\n",
        "            if not df.empty:\n",
        "                df['forma']=3        \n",
        "\n",
        "    if i==5:\n",
        "        break\n",
        "                \n",
        "    if df.empty:\n",
        "        continue \n",
        "    else:\n",
        "        #inentar verificar y si funciona:\n",
        "        df['NOMBRE COMPLETO']=bdi.loc[i,'NOMBRE COMPLETO'].strip()\n",
        "        dft=dft.append(df.loc[[0]]).reset_index(drop=True)\n",
        "        \n"
      ],
      "execution_count": 50,
      "outputs": [
        {
          "output_type": "stream",
          "text": [
            "0\n",
            "1\n",
            "2\n",
            "3\n",
            "4\n",
            "5\n"
          ],
          "name": "stdout"
        }
      ]
    },
    {
      "metadata": {
        "id": "cJG50IymKSHq",
        "colab_type": "code",
        "colab": {
          "base_uri": "https://localhost:8080/",
          "height": 197
        },
        "outputId": "bf4197ee-56ee-43c2-b6d5-ed2433bce235"
      },
      "cell_type": "code",
      "source": [
        "bdi[:5]"
      ],
      "execution_count": 51,
      "outputs": [
        {
          "output_type": "execute_result",
          "data": {
            "text/html": [
              "<div>\n",
              "<style scoped>\n",
              "    .dataframe tbody tr th:only-of-type {\n",
              "        vertical-align: middle;\n",
              "    }\n",
              "\n",
              "    .dataframe tbody tr th {\n",
              "        vertical-align: top;\n",
              "    }\n",
              "\n",
              "    .dataframe thead th {\n",
              "        text-align: right;\n",
              "    }\n",
              "</style>\n",
              "<table border=\"1\" class=\"dataframe\">\n",
              "  <thead>\n",
              "    <tr style=\"text-align: right;\">\n",
              "      <th></th>\n",
              "      <th>CÉDULA</th>\n",
              "      <th>NOMBRE COMPLETO</th>\n",
              "      <th>NOMBRES</th>\n",
              "      <th>PRIMER APELLIDO</th>\n",
              "      <th>SEGUNDO APELLIDO</th>\n",
              "      <th>FACULTAD</th>\n",
              "      <th>DEPARTAMENTO</th>\n",
              "      <th>GRUPO</th>\n",
              "      <th>Primer_NOMBRE</th>\n",
              "      <th>Segundo_NOMBRE</th>\n",
              "    </tr>\n",
              "  </thead>\n",
              "  <tbody>\n",
              "    <tr>\n",
              "      <th>0</th>\n",
              "      <td>71621971</td>\n",
              "      <td>Bernardo Maria Bustamante Cardona</td>\n",
              "      <td>Bernardo Maria</td>\n",
              "      <td>Bustamante</td>\n",
              "      <td>Cardona</td>\n",
              "      <td>Facultad de Artes</td>\n",
              "      <td>Departamento de Artes Visuales</td>\n",
              "      <td>Arteducación</td>\n",
              "      <td>Bernardo</td>\n",
              "      <td>Maria</td>\n",
              "    </tr>\n",
              "    <tr>\n",
              "      <th>1</th>\n",
              "      <td>71652139</td>\n",
              "      <td>Carlos Mario Jaramillo Ramirez</td>\n",
              "      <td>Carlos Mario</td>\n",
              "      <td>Jaramillo</td>\n",
              "      <td>Ramirez</td>\n",
              "      <td>Facultad de Artes</td>\n",
              "      <td>Departamento de Artes Visuales</td>\n",
              "      <td>DIDARTE. Didáctica de las artes</td>\n",
              "      <td>Carlos</td>\n",
              "      <td>Mario</td>\n",
              "    </tr>\n",
              "    <tr>\n",
              "      <th>2</th>\n",
              "      <td>43613390</td>\n",
              "      <td>Isabel Cristina Restrepo Acevedo</td>\n",
              "      <td>Isabel Cristina</td>\n",
              "      <td>Restrepo</td>\n",
              "      <td>Acevedo</td>\n",
              "      <td>Facultad de Artes</td>\n",
              "      <td>Departamento de Artes Visuales</td>\n",
              "      <td>Hipertrópico: Convergencia entre Arte y Tecnol...</td>\n",
              "      <td>Isabel</td>\n",
              "      <td>Cristina</td>\n",
              "    </tr>\n",
              "    <tr>\n",
              "      <th>3</th>\n",
              "      <td>43986489</td>\n",
              "      <td>Alexandra Milena Tabares Garcia</td>\n",
              "      <td>Alexandra Milena</td>\n",
              "      <td>Tabares</td>\n",
              "      <td>Garcia</td>\n",
              "      <td>Facultad de Artes</td>\n",
              "      <td>Departamento de Artes Visuales</td>\n",
              "      <td>Hipertrópico: Convergencia entre Arte y Tecnol...</td>\n",
              "      <td>Alexandra</td>\n",
              "      <td>Milena</td>\n",
              "    </tr>\n",
              "    <tr>\n",
              "      <th>4</th>\n",
              "      <td>15257718</td>\n",
              "      <td>Bernardo Barragan Castrillon</td>\n",
              "      <td>Bernardo</td>\n",
              "      <td>Barragan</td>\n",
              "      <td>Castrillon</td>\n",
              "      <td>Facultad de Artes</td>\n",
              "      <td>Departamento de Artes Visuales</td>\n",
              "      <td>Historia de la Práctica Pedagógica en Colombia</td>\n",
              "      <td>Bernardo</td>\n",
              "      <td></td>\n",
              "    </tr>\n",
              "  </tbody>\n",
              "</table>\n",
              "</div>"
            ],
            "text/plain": [
              "     CÉDULA                    NOMBRE COMPLETO            NOMBRES  \\\n",
              "0  71621971  Bernardo Maria Bustamante Cardona    Bernardo Maria    \n",
              "1  71652139     Carlos Mario Jaramillo Ramirez      Carlos Mario    \n",
              "2  43613390   Isabel Cristina Restrepo Acevedo   Isabel Cristina    \n",
              "3  43986489    Alexandra Milena Tabares Garcia  Alexandra Milena    \n",
              "4  15257718       Bernardo Barragan Castrillon         Bernardo     \n",
              "\n",
              "  PRIMER APELLIDO SEGUNDO APELLIDO           FACULTAD  \\\n",
              "0      Bustamante          Cardona  Facultad de Artes   \n",
              "1       Jaramillo          Ramirez  Facultad de Artes   \n",
              "2        Restrepo          Acevedo  Facultad de Artes   \n",
              "3         Tabares           Garcia  Facultad de Artes   \n",
              "4        Barragan       Castrillon  Facultad de Artes   \n",
              "\n",
              "                     DEPARTAMENTO  \\\n",
              "0  Departamento de Artes Visuales   \n",
              "1  Departamento de Artes Visuales   \n",
              "2  Departamento de Artes Visuales   \n",
              "3  Departamento de Artes Visuales   \n",
              "4  Departamento de Artes Visuales   \n",
              "\n",
              "                                               GRUPO Primer_NOMBRE  \\\n",
              "0                                      Arteducación       Bernardo   \n",
              "1                    DIDARTE. Didáctica de las artes        Carlos   \n",
              "2  Hipertrópico: Convergencia entre Arte y Tecnol...        Isabel   \n",
              "3  Hipertrópico: Convergencia entre Arte y Tecnol...     Alexandra   \n",
              "4     Historia de la Práctica Pedagógica en Colombia      Bernardo   \n",
              "\n",
              "  Segundo_NOMBRE  \n",
              "0          Maria  \n",
              "1          Mario  \n",
              "2       Cristina  \n",
              "3         Milena  \n",
              "4                 "
            ]
          },
          "metadata": {
            "tags": []
          },
          "execution_count": 51
        }
      ]
    },
    {
      "metadata": {
        "id": "yBZa_ymQKSHs",
        "colab_type": "code",
        "colab": {
          "base_uri": "https://localhost:8080/",
          "height": 137
        },
        "outputId": "60c13779-7d61-4348-8dc5-bfeca5489f7b"
      },
      "cell_type": "code",
      "source": [
        "dft[:5]"
      ],
      "execution_count": 52,
      "outputs": [
        {
          "output_type": "execute_result",
          "data": {
            "text/html": [
              "<div>\n",
              "<style scoped>\n",
              "    .dataframe tbody tr th:only-of-type {\n",
              "        vertical-align: middle;\n",
              "    }\n",
              "\n",
              "    .dataframe tbody tr th {\n",
              "        vertical-align: top;\n",
              "    }\n",
              "\n",
              "    .dataframe thead th {\n",
              "        text-align: right;\n",
              "    }\n",
              "</style>\n",
              "<table border=\"1\" class=\"dataframe\">\n",
              "  <thead>\n",
              "    <tr style=\"text-align: right;\">\n",
              "      <th></th>\n",
              "      <th>num-found</th>\n",
              "      <th>result</th>\n",
              "      <th>forma</th>\n",
              "      <th>NOMBRE COMPLETO</th>\n",
              "    </tr>\n",
              "  </thead>\n",
              "  <tbody>\n",
              "    <tr>\n",
              "      <th>0</th>\n",
              "      <td>2</td>\n",
              "      <td>{'orcid-identifier': {'uri': 'https://orcid.or...</td>\n",
              "      <td>3</td>\n",
              "      <td>Bernardo Maria Bustamante Cardona</td>\n",
              "    </tr>\n",
              "    <tr>\n",
              "      <th>1</th>\n",
              "      <td>2</td>\n",
              "      <td>{'orcid-identifier': {'uri': 'https://orcid.or...</td>\n",
              "      <td>1</td>\n",
              "      <td>Carlos Mario Jaramillo Ramirez</td>\n",
              "    </tr>\n",
              "    <tr>\n",
              "      <th>2</th>\n",
              "      <td>1</td>\n",
              "      <td>{'orcid-identifier': {'uri': 'https://orcid.or...</td>\n",
              "      <td>1</td>\n",
              "      <td>Isabel Cristina Restrepo Acevedo</td>\n",
              "    </tr>\n",
              "  </tbody>\n",
              "</table>\n",
              "</div>"
            ],
            "text/plain": [
              "   num-found                                             result  forma  \\\n",
              "0          2  {'orcid-identifier': {'uri': 'https://orcid.or...      3   \n",
              "1          2  {'orcid-identifier': {'uri': 'https://orcid.or...      1   \n",
              "2          1  {'orcid-identifier': {'uri': 'https://orcid.or...      1   \n",
              "\n",
              "                     NOMBRE COMPLETO  \n",
              "0  Bernardo Maria Bustamante Cardona  \n",
              "1     Carlos Mario Jaramillo Ramirez  \n",
              "2   Isabel Cristina Restrepo Acevedo  "
            ]
          },
          "metadata": {
            "tags": []
          },
          "execution_count": 52
        }
      ]
    },
    {
      "metadata": {
        "id": "8PWPLvNnPJgM",
        "colab_type": "text"
      },
      "cell_type": "markdown",
      "source": [
        "Estraer el link de orcid:"
      ]
    },
    {
      "metadata": {
        "id": "eRtyeVqdP2Mv",
        "colab_type": "text"
      },
      "cell_type": "markdown",
      "source": [
        "Obtener la colunna results:"
      ]
    },
    {
      "metadata": {
        "id": "hkddQ7DUSDL5",
        "colab_type": "code",
        "colab": {
          "base_uri": "https://localhost:8080/",
          "height": 87
        },
        "outputId": "f028d89f-e63b-4a54-f602-bb2066c5d71d"
      },
      "cell_type": "code",
      "source": [
        "dft[\"result\"]"
      ],
      "execution_count": 81,
      "outputs": [
        {
          "output_type": "execute_result",
          "data": {
            "text/plain": [
              "0    {'orcid-identifier': {'uri': 'https://orcid.or...\n",
              "1    {'orcid-identifier': {'uri': 'https://orcid.or...\n",
              "2    {'orcid-identifier': {'uri': 'https://orcid.or...\n",
              "Name: result, dtype: object"
            ]
          },
          "metadata": {
            "tags": []
          },
          "execution_count": 81
        }
      ]
    },
    {
      "metadata": {
        "id": "n-ZvGQNCSFSe",
        "colab_type": "text"
      },
      "cell_type": "markdown",
      "source": [
        "Notar que es una lista de diccionarios. Por lo tanto se puede convertir a DataFrame. \n",
        "\n",
        "Primero extraemos un arreglo que es una lista generalizada con el método `.values`"
      ]
    },
    {
      "metadata": {
        "id": "a5MyHoYuSeJT",
        "colab_type": "code",
        "colab": {
          "base_uri": "https://localhost:8080/",
          "height": 87
        },
        "outputId": "37b6b132-30f1-4ac4-ecd7-5e64487f00c5"
      },
      "cell_type": "code",
      "source": [
        "dft[\"result\"].values "
      ],
      "execution_count": 88,
      "outputs": [
        {
          "output_type": "execute_result",
          "data": {
            "text/plain": [
              "array([{'orcid-identifier': {'uri': 'https://orcid.org/0000-0002-3546-2163', 'path': '0000-0002-3546-2163', 'host': 'orcid.org'}},\n",
              "       {'orcid-identifier': {'uri': 'https://orcid.org/0000-0003-4969-8457', 'path': '0000-0003-4969-8457', 'host': 'orcid.org'}},\n",
              "       {'orcid-identifier': {'uri': 'https://orcid.org/0000-0002-8235-3525', 'path': '0000-0002-8235-3525', 'host': 'orcid.org'}}],\n",
              "      dtype=object)"
            ]
          },
          "metadata": {
            "tags": []
          },
          "execution_count": 88
        }
      ]
    },
    {
      "metadata": {
        "id": "kfE1-vfZSgga",
        "colab_type": "text"
      },
      "cell_type": "markdown",
      "source": [
        "Debemos convertir el arreglo en una lista de Python con la funciòn `list()`"
      ]
    },
    {
      "metadata": {
        "id": "gl80_S-USi4O",
        "colab_type": "code",
        "colab": {
          "base_uri": "https://localhost:8080/",
          "height": 176
        },
        "outputId": "8333de18-0b33-4af3-876a-f1fbd1edc365"
      },
      "cell_type": "code",
      "source": [
        "list(  dft[\"result\"].values )"
      ],
      "execution_count": 89,
      "outputs": [
        {
          "output_type": "execute_result",
          "data": {
            "text/plain": [
              "[{'orcid-identifier': {'host': 'orcid.org',\n",
              "   'path': '0000-0002-3546-2163',\n",
              "   'uri': 'https://orcid.org/0000-0002-3546-2163'}},\n",
              " {'orcid-identifier': {'host': 'orcid.org',\n",
              "   'path': '0000-0003-4969-8457',\n",
              "   'uri': 'https://orcid.org/0000-0003-4969-8457'}},\n",
              " {'orcid-identifier': {'host': 'orcid.org',\n",
              "   'path': '0000-0002-8235-3525',\n",
              "   'uri': 'https://orcid.org/0000-0002-8235-3525'}}]"
            ]
          },
          "metadata": {
            "tags": []
          },
          "execution_count": 89
        }
      ]
    },
    {
      "metadata": {
        "id": "5zrBrL68UuUI",
        "colab_type": "text"
      },
      "cell_type": "markdown",
      "source": [
        "Ahora Pandas lo puede interpretar como un DataFrame"
      ]
    },
    {
      "metadata": {
        "id": "PbGW_vC2QRt1",
        "colab_type": "code",
        "colab": {
          "base_uri": "https://localhost:8080/",
          "height": 137
        },
        "outputId": "e3769eeb-473d-48f1-9e9d-bfeac387882d"
      },
      "cell_type": "code",
      "source": [
        "dfresults= pd.DataFrame(  list( dft[\"result\"].values ) ) \n",
        "dfresults[:3]"
      ],
      "execution_count": 95,
      "outputs": [
        {
          "output_type": "execute_result",
          "data": {
            "text/html": [
              "<div>\n",
              "<style scoped>\n",
              "    .dataframe tbody tr th:only-of-type {\n",
              "        vertical-align: middle;\n",
              "    }\n",
              "\n",
              "    .dataframe tbody tr th {\n",
              "        vertical-align: top;\n",
              "    }\n",
              "\n",
              "    .dataframe thead th {\n",
              "        text-align: right;\n",
              "    }\n",
              "</style>\n",
              "<table border=\"1\" class=\"dataframe\">\n",
              "  <thead>\n",
              "    <tr style=\"text-align: right;\">\n",
              "      <th></th>\n",
              "      <th>orcid-identifier</th>\n",
              "    </tr>\n",
              "  </thead>\n",
              "  <tbody>\n",
              "    <tr>\n",
              "      <th>0</th>\n",
              "      <td>{'uri': 'https://orcid.org/0000-0002-3546-2163', 'path': '0000-0002-3546-2163', 'host': 'orcid.org'}</td>\n",
              "    </tr>\n",
              "    <tr>\n",
              "      <th>1</th>\n",
              "      <td>{'uri': 'https://orcid.org/0000-0003-4969-8457', 'path': '0000-0003-4969-8457', 'host': 'orcid.org'}</td>\n",
              "    </tr>\n",
              "    <tr>\n",
              "      <th>2</th>\n",
              "      <td>{'uri': 'https://orcid.org/0000-0002-8235-3525', 'path': '0000-0002-8235-3525', 'host': 'orcid.org'}</td>\n",
              "    </tr>\n",
              "  </tbody>\n",
              "</table>\n",
              "</div>"
            ],
            "text/plain": [
              "                                                                                       orcid-identifier\n",
              "0  {'uri': 'https://orcid.org/0000-0002-3546-2163', 'path': '0000-0002-3546-2163', 'host': 'orcid.org'}\n",
              "1  {'uri': 'https://orcid.org/0000-0003-4969-8457', 'path': '0000-0003-4969-8457', 'host': 'orcid.org'}\n",
              "2  {'uri': 'https://orcid.org/0000-0002-8235-3525', 'path': '0000-0002-8235-3525', 'host': 'orcid.org'}"
            ]
          },
          "metadata": {
            "tags": []
          },
          "execution_count": 95
        }
      ]
    },
    {
      "metadata": {
        "id": "nToQCc1QWSAt",
        "colab_type": "text"
      },
      "cell_type": "markdown",
      "source": [
        "Repetimos el proceso para la columna `\"orcid-identifier\"`"
      ]
    },
    {
      "metadata": {
        "id": "qnxpcF7XRhr9",
        "colab_type": "code",
        "colab": {
          "base_uri": "https://localhost:8080/",
          "height": 137
        },
        "outputId": "4b3f1006-68d9-4012-da16-1e67676671c8"
      },
      "cell_type": "code",
      "source": [
        "dfresults=pd.DataFrame( list(  dfresults[\"orcid-identifier\"].values ) )\n",
        "dfresults[:3ors[0]]"
      ],
      "execution_count": 96,
      "outputs": [
        {
          "output_type": "execute_result",
          "data": {
            "text/html": [
              "<div>\n",
              "<style scoped>\n",
              "    .dataframe tbody tr th:only-of-type {\n",
              "        vertical-align: middle;\n",
              "    }\n",
              "\n",
              "    .dataframe tbody tr th {\n",
              "        vertical-align: top;\n",
              "    }\n",
              "\n",
              "    .dataframe thead th {\n",
              "        text-align: right;\n",
              "    }\n",
              "</style>\n",
              "<table border=\"1\" class=\"dataframe\">\n",
              "  <thead>\n",
              "    <tr style=\"text-align: right;\">\n",
              "      <th></th>\n",
              "      <th>host</th>\n",
              "      <th>path</th>\n",
              "      <th>uri</th>\n",
              "    </tr>\n",
              "  </thead>\n",
              "  <tbody>\n",
              "    <tr>\n",
              "      <th>0</th>\n",
              "      <td>orcid.org</td>\n",
              "      <td>0000-0002-3546-2163</td>\n",
              "      <td>https://orcid.org/0000-0002-3546-2163</td>\n",
              "    </tr>\n",
              "    <tr>\n",
              "      <th>1</th>\n",
              "      <td>orcid.org</td>\n",
              "      <td>0000-0003-4969-8457</td>\n",
              "      <td>https://orcid.org/0000-0003-4969-8457</td>\n",
              "    </tr>\n",
              "    <tr>\n",
              "      <th>2</th>\n",
              "      <td>orcid.org</td>\n",
              "      <td>0000-0002-8235-3525</td>\n",
              "      <td>https://orcid.org/0000-0002-8235-3525</td>\n",
              "    </tr>\n",
              "  </tbody>\n",
              "</table>\n",
              "</div>"
            ],
            "text/plain": [
              "        host                 path                                    uri\n",
              "0  orcid.org  0000-0002-3546-2163  https://orcid.org/0000-0002-3546-2163\n",
              "1  orcid.org  0000-0003-4969-8457  https://orcid.org/0000-0003-4969-8457\n",
              "2  orcid.org  0000-0002-8235-3525  https://orcid.org/0000-0002-8235-3525"
            ]
          },
          "metadata": {
            "tags": []
          },
          "execution_count": 96
        }
      ]
    },
    {
      "metadata": {
        "id": "Vm-WrrPSKSHu",
        "colab_type": "code",
        "colab": {
          "base_uri": "https://localhost:8080/",
          "height": 87
        },
        "outputId": "6796d265-a7d6-46ce-fd6c-87c140f5e8d9"
      },
      "cell_type": "code",
      "source": [
        "dfresults['uri']"
      ],
      "execution_count": 97,
      "outputs": [
        {
          "output_type": "execute_result",
          "data": {
            "text/plain": [
              "0    https://orcid.org/0000-0002-3546-2163\n",
              "1    https://orcid.org/0000-0003-4969-8457\n",
              "2    https://orcid.org/0000-0002-8235-3525\n",
              "Name: uri, dtype: object"
            ]
          },
          "metadata": {
            "tags": []
          },
          "execution_count": 97
        }
      ]
    },
    {
      "metadata": {
        "id": "7HwSh09rYb46",
        "colab_type": "text"
      },
      "cell_type": "markdown",
      "source": [
        "Como es una columna de cadena de caràcteres de caracteres, podemos usar el método `.str.split`, para convertirlo en lista con respecto a un separador"
      ]
    },
    {
      "metadata": {
        "id": "ebwH1AEuKSHx",
        "colab_type": "code",
        "colab": {
          "base_uri": "https://localhost:8080/",
          "height": 87
        },
        "outputId": "b63d1abc-52ba-41cf-c72b-8e2f992296d3"
      },
      "cell_type": "code",
      "source": [
        "dfresults['uri'].str.split('/')"
      ],
      "execution_count": 100,
      "outputs": [
        {
          "output_type": "execute_result",
          "data": {
            "text/plain": [
              "0    [https:, , orcid.org, 0000-0002-3546-2163]\n",
              "1    [https:, , orcid.org, 0000-0003-4969-8457]\n",
              "2    [https:, , orcid.org, 0000-0002-8235-3525]\n",
              "Name: uri, dtype: object"
            ]
          },
          "metadata": {
            "tags": []
          },
          "execution_count": 100
        }
      ]
    },
    {
      "metadata": {
        "id": "I8G02VdWZONL",
        "colab_type": "text"
      },
      "cell_type": "markdown",
      "source": [
        "Para extraer una columna i, se usa el mètrodo `.str` con el llamado a la columna i. Para i=3. Como en este caso es el último elemento, también podemos usar -1"
      ]
    },
    {
      "metadata": {
        "id": "7qRtnQvgZf-x",
        "colab_type": "code",
        "colab": {}
      },
      "cell_type": "code",
      "source": [
        "ors=dfresults['uri'].str.split('/').str[-1]"
      ],
      "execution_count": 0,
      "outputs": []
    },
    {
      "metadata": {
        "id": "qfmjLbuBXNZc",
        "colab_type": "text"
      },
      "cell_type": "markdown",
      "source": [
        "# Temporal\n",
        "Ensayo para `ors[0]`"
      ]
    },
    {
      "metadata": {
        "id": "r7CZkxrPaHUB",
        "colab_type": "code",
        "colab": {
          "base_uri": "https://localhost:8080/",
          "height": 34
        },
        "outputId": "8594b707-59f6-4642-f56f-c6a142affbb0"
      },
      "cell_type": "code",
      "source": [
        "i=0\n",
        "ors[i]"
      ],
      "execution_count": 105,
      "outputs": [
        {
          "output_type": "execute_result",
          "data": {
            "text/plain": [
              "'0000-0002-3546-2163'"
            ]
          },
          "metadata": {
            "tags": []
          },
          "execution_count": 105
        }
      ]
    },
    {
      "metadata": {
        "id": "BGh390liYVMf",
        "colab_type": "text"
      },
      "cell_type": "markdown",
      "source": [
        "orcid"
      ]
    },
    {
      "metadata": {
        "id": "pbuzjr4TaXFL",
        "colab_type": "code",
        "colab": {
          "base_uri": "https://localhost:8080/",
          "height": 77
        },
        "outputId": "db1659da-7b6a-40f3-d05e-49c6b28d3a7e"
      },
      "cell_type": "code",
      "source": [
        "kk=search_orcid('orcid:{}'.format(ors[i]),search_token)\n",
        "kk"
      ],
      "execution_count": 109,
      "outputs": [
        {
          "output_type": "execute_result",
          "data": {
            "text/html": [
              "<div>\n",
              "<style scoped>\n",
              "    .dataframe tbody tr th:only-of-type {\n",
              "        vertical-align: middle;\n",
              "    }\n",
              "\n",
              "    .dataframe tbody tr th {\n",
              "        vertical-align: top;\n",
              "    }\n",
              "\n",
              "    .dataframe thead th {\n",
              "        text-align: right;\n",
              "    }\n",
              "</style>\n",
              "<table border=\"1\" class=\"dataframe\">\n",
              "  <thead>\n",
              "    <tr style=\"text-align: right;\">\n",
              "      <th></th>\n",
              "      <th>num-found</th>\n",
              "      <th>result</th>\n",
              "    </tr>\n",
              "  </thead>\n",
              "  <tbody>\n",
              "    <tr>\n",
              "      <th>0</th>\n",
              "      <td>1</td>\n",
              "      <td>{'orcid-identifier': {'uri': 'https://orcid.org/0000-0002-3546-2163', 'path': '0000-0002-3546-2163', 'host': 'orcid.org'}}</td>\n",
              "    </tr>\n",
              "  </tbody>\n",
              "</table>\n",
              "</div>"
            ],
            "text/plain": [
              "   num-found  \\\n",
              "0          1   \n",
              "\n",
              "                                                                                                                       result  \n",
              "0  {'orcid-identifier': {'uri': 'https://orcid.org/0000-0002-3546-2163', 'path': '0000-0002-3546-2163', 'host': 'orcid.org'}}  "
            ]
          },
          "metadata": {
            "tags": []
          },
          "execution_count": 109
        }
      ]
    },
    {
      "metadata": {
        "id": "8nkhmOlnclav",
        "colab_type": "text"
      },
      "cell_type": "markdown",
      "source": [
        "http://members.orcid.org/api/tutorial/read-orcid-records\n",
        "https://github.com/ORCID/ORCID-Source/blob/master/orcid-model/src/main/resources/record_2.0/README.md#read-sections"
      ]
    },
    {
      "metadata": {
        "id": "5TVKsgJaKSHy",
        "colab_type": "text"
      },
      "cell_type": "markdown",
      "source": [
        "## Appendix"
      ]
    },
    {
      "metadata": {
        "id": "NWIzUgxFKSHz",
        "colab_type": "code",
        "colab": {}
      },
      "cell_type": "code",
      "source": [
        "r=requests.get('http://docs.python-requests.org/en/master/')"
      ],
      "execution_count": 0,
      "outputs": []
    },
    {
      "metadata": {
        "id": "thxlwikYKSH4",
        "colab_type": "code",
        "colab": {},
        "outputId": "c405ec45-8fe8-456d-830a-187e060a7480"
      },
      "cell_type": "code",
      "source": [
        "print( r.text[:193] )"
      ],
      "execution_count": 0,
      "outputs": [
        {
          "output_type": "stream",
          "text": [
            "\n",
            "<!DOCTYPE html PUBLIC \"-//W3C//DTD XHTML 1.0 Transitional//EN\"\n",
            "  \"http://www.w3.org/TR/xhtml1/DTD/xhtml1-transitional.dtd\">\n",
            "\n",
            "<html xmlns=\"http://www.w3.org/1999/xhtml\" lang=\"en\">\n",
            "  <head>\n",
            "    \n"
          ],
          "name": "stdout"
        }
      ]
    },
    {
      "metadata": {
        "id": "XTKkr3M8KSH7",
        "colab_type": "code",
        "colab": {}
      },
      "cell_type": "code",
      "source": [
        ""
      ],
      "execution_count": 0,
      "outputs": []
    }
  ]
}