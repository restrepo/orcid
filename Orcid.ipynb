{
 "cells": [
  {
   "cell_type": "markdown",
   "metadata": {},
   "source": [
    "# Búsqueda de autores en Orcid\n",
    "See [search-orcid-registry](http://members.orcid.org/api/tutorial/search-orcid-registry)\n",
    "\n",
    "ORCID: https://github.com/ORCID/python-orcid"
   ]
  },
  {
   "cell_type": "code",
   "execution_count": 1,
   "metadata": {},
   "outputs": [
    {
     "name": "stdout",
     "output_type": "stream",
     "text": [
      "Overwriting drive.cfg\n"
     ]
    }
   ],
   "source": [
    "%%writefile drive.cfg\n",
    "[FILES]\n",
    "Base_de_datos_investigadores_Definitiva.csv=12oalgUeKhpvzkTPBP8pXCeHTrF-KO223dy9ov9w9QKs "
   ]
  },
  {
   "cell_type": "code",
   "execution_count": 2,
   "metadata": {
    "collapsed": true
   },
   "outputs": [],
   "source": [
    "import requests\n",
    "import pandas as pd\n",
    "import wosplus as wp"
   ]
  },
  {
   "cell_type": "code",
   "execution_count": 3,
   "metadata": {
    "collapsed": true,
    "scrolled": true
   },
   "outputs": [],
   "source": [
    "bdi=wp.read_drive_excel('Base_de_datos_investigadores_Definitiva.csv')"
   ]
  },
  {
   "cell_type": "code",
   "execution_count": 4,
   "metadata": {},
   "outputs": [
    {
     "data": {
      "text/html": [
       "<div>\n",
       "<table border=\"1\" class=\"dataframe\">\n",
       "  <thead>\n",
       "    <tr style=\"text-align: right;\">\n",
       "      <th></th>\n",
       "      <th>CÉDULA</th>\n",
       "      <th>NOMBRE COMPLETO</th>\n",
       "      <th>NOMBRES</th>\n",
       "      <th>PRIMER APELLIDO</th>\n",
       "      <th>SEGUNDO APELLIDO</th>\n",
       "      <th>FACULTAD</th>\n",
       "      <th>DEPARTAMENTO</th>\n",
       "      <th>GRUPO</th>\n",
       "    </tr>\n",
       "  </thead>\n",
       "  <tbody>\n",
       "    <tr>\n",
       "      <th>0</th>\n",
       "      <td>71621971</td>\n",
       "      <td>Bernardo Maria Bustamante Cardona</td>\n",
       "      <td>Bernardo Maria</td>\n",
       "      <td>Bustamante</td>\n",
       "      <td>Cardona</td>\n",
       "      <td>Facultad de Artes</td>\n",
       "      <td>Departamento de Artes Visuales</td>\n",
       "      <td>Arteducación</td>\n",
       "    </tr>\n",
       "    <tr>\n",
       "      <th>1</th>\n",
       "      <td>71652139</td>\n",
       "      <td>Carlos Mario Jaramillo Ramirez</td>\n",
       "      <td>Carlos Mario</td>\n",
       "      <td>Jaramillo</td>\n",
       "      <td>Ramirez</td>\n",
       "      <td>Facultad de Artes</td>\n",
       "      <td>Departamento de Artes Visuales</td>\n",
       "      <td>DIDARTE. Didáctica de las artes</td>\n",
       "    </tr>\n",
       "  </tbody>\n",
       "</table>\n",
       "</div>"
      ],
      "text/plain": [
       "     CÉDULA                    NOMBRE COMPLETO          NOMBRES  \\\n",
       "0  71621971  Bernardo Maria Bustamante Cardona  Bernardo Maria    \n",
       "1  71652139     Carlos Mario Jaramillo Ramirez    Carlos Mario    \n",
       "\n",
       "  PRIMER APELLIDO SEGUNDO APELLIDO           FACULTAD  \\\n",
       "0      Bustamante          Cardona  Facultad de Artes   \n",
       "1       Jaramillo          Ramirez  Facultad de Artes   \n",
       "\n",
       "                     DEPARTAMENTO                            GRUPO  \n",
       "0  Departamento de Artes Visuales                    Arteducación   \n",
       "1  Departamento de Artes Visuales  DIDARTE. Didáctica de las artes  "
      ]
     },
     "execution_count": 4,
     "metadata": {},
     "output_type": "execute_result"
    }
   ],
   "source": [
    "bdi[:2]"
   ]
  },
  {
   "cell_type": "markdown",
   "metadata": {},
   "source": [
    "Obtener el token del API"
   ]
  },
  {
   "cell_type": "code",
   "execution_count": 5,
   "metadata": {
    "collapsed": true
   },
   "outputs": [],
   "source": [
    "# From https://github.com/ORCID/python-orcid\n",
    "import orcid\n",
    "api = orcid.PublicAPI('APP-R8J5P57TTE983P54', 'c6e1dd48-80d3-4dd9-9336-fc41728ac8fe', sandbox=False)\n",
    "#token = api.get_token_from_authorization_code(authorization_code,\n",
    "#                                              redirect_uri)\n"
   ]
  },
  {
   "cell_type": "code",
   "execution_count": 6,
   "metadata": {
    "collapsed": true
   },
   "outputs": [],
   "source": [
    "search_token = api.get_search_token_from_orcid()"
   ]
  },
  {
   "cell_type": "code",
   "execution_count": 7,
   "metadata": {},
   "outputs": [
    {
     "data": {
      "text/plain": [
       "'1d639b1a-4f0d-4189-89dc-84adbd9b1700'"
      ]
     },
     "execution_count": 7,
     "metadata": {},
     "output_type": "execute_result"
    }
   ],
   "source": [
    "search_token"
   ]
  },
  {
   "cell_type": "markdown",
   "metadata": {
    "collapsed": true
   },
   "source": [
    "https://pub.orcid.org"
   ]
  },
  {
   "cell_type": "markdown",
   "metadata": {},
   "source": [
    "Comprobar que funciona"
   ]
  },
  {
   "cell_type": "code",
   "execution_count": 8,
   "metadata": {
    "collapsed": true
   },
   "outputs": [],
   "source": [
    "HEADERS_orcid={'Content-type': 'application/vnd.orcid+json',\n",
    "    'Access token': search_token}"
   ]
  },
  {
   "cell_type": "code",
   "execution_count": 9,
   "metadata": {
    "collapsed": true
   },
   "outputs": [],
   "source": [
    "r=requests.get('https://pub.orcid.org/v2.1/search/?q=newman', headers=HEADERS_orcid)"
   ]
  },
  {
   "cell_type": "markdown",
   "metadata": {},
   "source": [
    "Muestre los dos primeros elementos de la lista de resultados"
   ]
  },
  {
   "cell_type": "code",
   "execution_count": 11,
   "metadata": {},
   "outputs": [
    {
     "data": {
      "text/html": [
       "<div>\n",
       "<table border=\"1\" class=\"dataframe\">\n",
       "  <thead>\n",
       "    <tr style=\"text-align: right;\">\n",
       "      <th></th>\n",
       "      <th>num-found</th>\n",
       "      <th>result</th>\n",
       "    </tr>\n",
       "  </thead>\n",
       "  <tbody>\n",
       "    <tr>\n",
       "      <th>0</th>\n",
       "      <td>924</td>\n",
       "      <td>{'orcid-identifier': {'path': '0000-0002-5662-263X', 'uri': 'https://orcid.org/0000-0002-5662-263X', 'host': 'orcid.org'}}</td>\n",
       "    </tr>\n",
       "    <tr>\n",
       "      <th>1</th>\n",
       "      <td>924</td>\n",
       "      <td>{'orcid-identifier': {'path': '0000-0002-7182-6999', 'uri': 'https://orcid.org/0000-0002-7182-6999', 'host': 'orcid.org'}}</td>\n",
       "    </tr>\n",
       "  </tbody>\n",
       "</table>\n",
       "</div>"
      ],
      "text/plain": [
       "   num-found  \\\n",
       "0        924   \n",
       "1        924   \n",
       "\n",
       "                                                                                                                       result  \n",
       "0  {'orcid-identifier': {'path': '0000-0002-5662-263X', 'uri': 'https://orcid.org/0000-0002-5662-263X', 'host': 'orcid.org'}}  \n",
       "1  {'orcid-identifier': {'path': '0000-0002-7182-6999', 'uri': 'https://orcid.org/0000-0002-7182-6999', 'host': 'orcid.org'}}  "
      ]
     },
     "execution_count": 11,
     "metadata": {},
     "output_type": "execute_result"
    }
   ],
   "source": [
    "pd.read_json(r.text)[:2]"
   ]
  },
  {
   "cell_type": "markdown",
   "metadata": {
    "collapsed": true
   },
   "source": [
    "Definir la función de búsqueda. Ver ayuda en la documentación del API"
   ]
  },
  {
   "cell_type": "code",
   "execution_count": 12,
   "metadata": {
    "collapsed": true
   },
   "outputs": [],
   "source": [
    "import pandas as pd\n",
    "import time\n",
    "import random\n",
    "def search_orcid(q='family-name:Taylor+AND+given-names:Michael',search_token=''):\n",
    "    '''\n",
    "    Search API orcid in json for query q: (see examples here: http://members.orcid.org/api/tutorial/search-orcid-registry)\n",
    "    Example: \n",
    "    q=family-name:Taylor+AND+given-names:Michael\n",
    "    '''\n",
    "    HEADERS_orcid={'Content-type': 'application/vnd.orcid+json',\n",
    "    'Access token': search_token}\n",
    "    r=requests.get('https://pub.orcid.org/v2.1/search/?q={}'.format(q),\n",
    "                   headers=HEADERS_orcid)\n",
    "    \n",
    "    # wait for next request\n",
    "    time.sleep(random.randint(1,3))\n",
    "    if r.status_code==200:\n",
    "        return pd.read_json(r.text)\n",
    "    else:\n",
    "        return pd.DataFrame()"
   ]
  },
  {
   "cell_type": "markdown",
   "metadata": {},
   "source": [
    "## Formulas de búsqueda"
   ]
  },
  {
   "cell_type": "markdown",
   "metadata": {},
   "source": [
    "Muestra de búsqueda por nombre para investigador de la UdeA"
   ]
  },
  {
   "cell_type": "code",
   "execution_count": 14,
   "metadata": {
    "collapsed": true
   },
   "outputs": [],
   "source": [
    "df=search_orcid('family-name:Restrepo+AND+given-names:Diego+AND+affiliation-org-name:Universidad+de+Antioquia',\n",
    "                search_token)#+AND+given-names:Diego')#+AND+affiliation-org-name:Universidad+de+Antioquia')"
   ]
  },
  {
   "cell_type": "markdown",
   "metadata": {},
   "source": [
    "Muestre los primeros dos resultados de la búsqueda"
   ]
  },
  {
   "cell_type": "code",
   "execution_count": 15,
   "metadata": {},
   "outputs": [
    {
     "data": {
      "text/html": [
       "<div>\n",
       "<table border=\"1\" class=\"dataframe\">\n",
       "  <thead>\n",
       "    <tr style=\"text-align: right;\">\n",
       "      <th></th>\n",
       "      <th>num-found</th>\n",
       "      <th>result</th>\n",
       "    </tr>\n",
       "  </thead>\n",
       "  <tbody>\n",
       "    <tr>\n",
       "      <th>0</th>\n",
       "      <td>6</td>\n",
       "      <td>{'orcid-identifier': {'path': '0000-0001-6455-5564', 'uri': 'https://orcid.org/0000-0001-6455-5564', 'host': 'orcid.org'}}</td>\n",
       "    </tr>\n",
       "    <tr>\n",
       "      <th>1</th>\n",
       "      <td>6</td>\n",
       "      <td>{'orcid-identifier': {'path': '0000-0002-9054-3847', 'uri': 'https://orcid.org/0000-0002-9054-3847', 'host': 'orcid.org'}}</td>\n",
       "    </tr>\n",
       "  </tbody>\n",
       "</table>\n",
       "</div>"
      ],
      "text/plain": [
       "   num-found  \\\n",
       "0          6   \n",
       "1          6   \n",
       "\n",
       "                                                                                                                       result  \n",
       "0  {'orcid-identifier': {'path': '0000-0001-6455-5564', 'uri': 'https://orcid.org/0000-0001-6455-5564', 'host': 'orcid.org'}}  \n",
       "1  {'orcid-identifier': {'path': '0000-0002-9054-3847', 'uri': 'https://orcid.org/0000-0002-9054-3847', 'host': 'orcid.org'}}  "
      ]
     },
     "execution_count": 15,
     "metadata": {},
     "output_type": "execute_result"
    }
   ],
   "source": [
    "df[:2]"
   ]
  },
  {
   "cell_type": "markdown",
   "metadata": {},
   "source": [
    "### Prepare búsqueda investigadores UdeA"
   ]
  },
  {
   "cell_type": "code",
   "execution_count": 17,
   "metadata": {
    "collapsed": true
   },
   "outputs": [],
   "source": [
    "apellido='Restrepo'\n",
    "nombre='Diego'\n",
    "affiliation='Universidad de Antioquia'"
   ]
  },
  {
   "cell_type": "code",
   "execution_count": 18,
   "metadata": {
    "collapsed": true
   },
   "outputs": [],
   "source": [
    "df=search_orcid('family-name:{}+AND+given-names:{}+AND+affiliation-org-name:{}'.format(\n",
    "                  apellido.replace(' ','+'), nombre.replace(' ','+'), affiliation.replace(' ','+') ) ,\n",
    "                search_token)"
   ]
  },
  {
   "cell_type": "code",
   "execution_count": 19,
   "metadata": {},
   "outputs": [
    {
     "data": {
      "text/html": [
       "<div>\n",
       "<table border=\"1\" class=\"dataframe\">\n",
       "  <thead>\n",
       "    <tr style=\"text-align: right;\">\n",
       "      <th></th>\n",
       "      <th>num-found</th>\n",
       "      <th>result</th>\n",
       "    </tr>\n",
       "  </thead>\n",
       "  <tbody>\n",
       "    <tr>\n",
       "      <th>0</th>\n",
       "      <td>6</td>\n",
       "      <td>{'orcid-identifier': {'path': '0000-0001-6455-5564', 'uri': 'https://orcid.org/0000-0001-6455-5564', 'host': 'orcid.org'}}</td>\n",
       "    </tr>\n",
       "    <tr>\n",
       "      <th>1</th>\n",
       "      <td>6</td>\n",
       "      <td>{'orcid-identifier': {'path': '0000-0002-9054-3847', 'uri': 'https://orcid.org/0000-0002-9054-3847', 'host': 'orcid.org'}}</td>\n",
       "    </tr>\n",
       "  </tbody>\n",
       "</table>\n",
       "</div>"
      ],
      "text/plain": [
       "   num-found  \\\n",
       "0          6   \n",
       "1          6   \n",
       "\n",
       "                                                                                                                       result  \n",
       "0  {'orcid-identifier': {'path': '0000-0001-6455-5564', 'uri': 'https://orcid.org/0000-0001-6455-5564', 'host': 'orcid.org'}}  \n",
       "1  {'orcid-identifier': {'path': '0000-0002-9054-3847', 'uri': 'https://orcid.org/0000-0002-9054-3847', 'host': 'orcid.org'}}  "
      ]
     },
     "execution_count": 19,
     "metadata": {},
     "output_type": "execute_result"
    }
   ],
   "source": [
    "df[:2]"
   ]
  },
  {
   "cell_type": "markdown",
   "metadata": {},
   "source": [
    "Además de afiliación:\n",
    "1. Nombres y apellidos completo\n",
    "2. Primer nombre y primer apellido\n",
    "3. Segundo nombre y primer appellido\n",
    "\n",
    "Se va a hacer un loop sobre la base de datos de investigadores de la UdeA. Se ilustrará primero lo que pasa con la primera entrada  de la lista cuando se búsca de la forma 1."
   ]
  },
  {
   "cell_type": "code",
   "execution_count": 20,
   "metadata": {},
   "outputs": [
    {
     "data": {
      "text/html": [
       "<div>\n",
       "<table border=\"1\" class=\"dataframe\">\n",
       "  <thead>\n",
       "    <tr style=\"text-align: right;\">\n",
       "      <th></th>\n",
       "      <th>CÉDULA</th>\n",
       "      <th>NOMBRE COMPLETO</th>\n",
       "      <th>NOMBRES</th>\n",
       "      <th>PRIMER APELLIDO</th>\n",
       "      <th>SEGUNDO APELLIDO</th>\n",
       "      <th>FACULTAD</th>\n",
       "      <th>DEPARTAMENTO</th>\n",
       "      <th>GRUPO</th>\n",
       "    </tr>\n",
       "  </thead>\n",
       "  <tbody>\n",
       "    <tr>\n",
       "      <th>0</th>\n",
       "      <td>71621971</td>\n",
       "      <td>Bernardo Maria Bustamante Cardona</td>\n",
       "      <td>Bernardo Maria</td>\n",
       "      <td>Bustamante</td>\n",
       "      <td>Cardona</td>\n",
       "      <td>Facultad de Artes</td>\n",
       "      <td>Departamento de Artes Visuales</td>\n",
       "      <td>Arteducación</td>\n",
       "    </tr>\n",
       "  </tbody>\n",
       "</table>\n",
       "</div>"
      ],
      "text/plain": [
       "     CÉDULA                    NOMBRE COMPLETO          NOMBRES  \\\n",
       "0  71621971  Bernardo Maria Bustamante Cardona  Bernardo Maria    \n",
       "\n",
       "  PRIMER APELLIDO SEGUNDO APELLIDO           FACULTAD  \\\n",
       "0      Bustamante          Cardona  Facultad de Artes   \n",
       "\n",
       "                     DEPARTAMENTO          GRUPO  \n",
       "0  Departamento de Artes Visuales  Arteducación   "
      ]
     },
     "execution_count": 20,
     "metadata": {},
     "output_type": "execute_result"
    }
   ],
   "source": [
    "bdi[:1]"
   ]
  },
  {
   "cell_type": "code",
   "execution_count": 21,
   "metadata": {
    "collapsed": true
   },
   "outputs": [],
   "source": [
    "i=0"
   ]
  },
  {
   "cell_type": "code",
   "execution_count": 22,
   "metadata": {},
   "outputs": [
    {
     "data": {
      "text/plain": [
       "'Bernardo Maria'"
      ]
     },
     "execution_count": 22,
     "metadata": {},
     "output_type": "execute_result"
    }
   ],
   "source": [
    "bdi.loc[i,'NOMBRES'].strip()"
   ]
  },
  {
   "cell_type": "code",
   "execution_count": 23,
   "metadata": {},
   "outputs": [
    {
     "data": {
      "text/plain": [
       "'Bustamante Cardona'"
      ]
     },
     "execution_count": 23,
     "metadata": {},
     "output_type": "execute_result"
    }
   ],
   "source": [
    "bdi.loc[i,'PRIMER APELLIDO']+' '+bdi.loc[i,'SEGUNDO APELLIDO']"
   ]
  },
  {
   "cell_type": "code",
   "execution_count": 24,
   "metadata": {},
   "outputs": [],
   "source": [
    "apellido=bdi.loc[i,'PRIMER APELLIDO'].strip()\n",
    "apellido_completo=apellido+' '+bdi.loc[i,'SEGUNDO APELLIDO'].strip()\n",
    "nombre_completo=bdi.loc[i,'NOMBRES'].strip()\n",
    "affiliation='Universidad de Antioquia'\n",
    "df=search_orcid('family-name:{}+AND+given-names:{}+AND+affiliation-org-name:{}'.format(\n",
    "                  apellido_completo.replace(' ','+'), \n",
    "                  nombre_completo.replace(' ','+'), affiliation.replace(' ','+') ) ,\n",
    "                search_token)"
   ]
  },
  {
   "cell_type": "code",
   "execution_count": 26,
   "metadata": {},
   "outputs": [
    {
     "data": {
      "text/html": [
       "<div>\n",
       "<table border=\"1\" class=\"dataframe\">\n",
       "  <thead>\n",
       "    <tr style=\"text-align: right;\">\n",
       "      <th></th>\n",
       "      <th>num-found</th>\n",
       "      <th>result</th>\n",
       "    </tr>\n",
       "  </thead>\n",
       "  <tbody>\n",
       "  </tbody>\n",
       "</table>\n",
       "</div>"
      ],
      "text/plain": [
       "Empty DataFrame\n",
       "Columns: [num-found, result]\n",
       "Index: []"
      ]
     },
     "execution_count": 26,
     "metadata": {},
     "output_type": "execute_result"
    }
   ],
   "source": [
    "df"
   ]
  },
  {
   "cell_type": "markdown",
   "metadata": {},
   "source": [
    "Ahora intentamos con la búsqueda 2. \n",
    "\n",
    "Para ello añadimos una columna con el primer nombre al DataFrame"
   ]
  },
  {
   "cell_type": "code",
   "execution_count": 30,
   "metadata": {
    "collapsed": true
   },
   "outputs": [],
   "source": [
    "bdi['Primer_NOMBRE']=bdi.NOMBRES.str.split().str[0]\n",
    "nombre=bdi.loc[i,'Primer_NOMBRE'].strip()"
   ]
  },
  {
   "cell_type": "code",
   "execution_count": 31,
   "metadata": {},
   "outputs": [
    {
     "data": {
      "text/html": [
       "<div>\n",
       "<table border=\"1\" class=\"dataframe\">\n",
       "  <thead>\n",
       "    <tr style=\"text-align: right;\">\n",
       "      <th></th>\n",
       "      <th>CÉDULA</th>\n",
       "      <th>NOMBRE COMPLETO</th>\n",
       "      <th>NOMBRES</th>\n",
       "      <th>PRIMER APELLIDO</th>\n",
       "      <th>SEGUNDO APELLIDO</th>\n",
       "      <th>FACULTAD</th>\n",
       "      <th>DEPARTAMENTO</th>\n",
       "      <th>GRUPO</th>\n",
       "      <th>Primer_NOMBRE</th>\n",
       "    </tr>\n",
       "  </thead>\n",
       "  <tbody>\n",
       "    <tr>\n",
       "      <th>0</th>\n",
       "      <td>71621971</td>\n",
       "      <td>Bernardo Maria Bustamante Cardona</td>\n",
       "      <td>Bernardo Maria</td>\n",
       "      <td>Bustamante</td>\n",
       "      <td>Cardona</td>\n",
       "      <td>Facultad de Artes</td>\n",
       "      <td>Departamento de Artes Visuales</td>\n",
       "      <td>Arteducación</td>\n",
       "      <td>Bernardo</td>\n",
       "    </tr>\n",
       "  </tbody>\n",
       "</table>\n",
       "</div>"
      ],
      "text/plain": [
       "     CÉDULA                    NOMBRE COMPLETO          NOMBRES  \\\n",
       "0  71621971  Bernardo Maria Bustamante Cardona  Bernardo Maria    \n",
       "\n",
       "  PRIMER APELLIDO SEGUNDO APELLIDO           FACULTAD  \\\n",
       "0      Bustamante          Cardona  Facultad de Artes   \n",
       "\n",
       "                     DEPARTAMENTO          GRUPO Primer_NOMBRE  \n",
       "0  Departamento de Artes Visuales  Arteducación       Bernardo  "
      ]
     },
     "execution_count": 31,
     "metadata": {},
     "output_type": "execute_result"
    }
   ],
   "source": [
    "bdi[:1]"
   ]
  },
  {
   "cell_type": "code",
   "execution_count": 33,
   "metadata": {},
   "outputs": [],
   "source": [
    "df=search_orcid('family-name:{}+AND+given-names:{}+AND+affiliation-org-name:{}'.format(\n",
    "                  apellido.replace(' ','+'), \n",
    "                  nombre.replace(' ','+'), affiliation.replace(' ','+') ) ,\n",
    "                search_token)"
   ]
  },
  {
   "cell_type": "code",
   "execution_count": 34,
   "metadata": {},
   "outputs": [
    {
     "data": {
      "text/html": [
       "<div>\n",
       "<table border=\"1\" class=\"dataframe\">\n",
       "  <thead>\n",
       "    <tr style=\"text-align: right;\">\n",
       "      <th></th>\n",
       "      <th>num-found</th>\n",
       "      <th>result</th>\n",
       "    </tr>\n",
       "  </thead>\n",
       "  <tbody>\n",
       "  </tbody>\n",
       "</table>\n",
       "</div>"
      ],
      "text/plain": [
       "Empty DataFrame\n",
       "Columns: [num-found, result]\n",
       "Index: []"
      ]
     },
     "execution_count": 34,
     "metadata": {},
     "output_type": "execute_result"
    }
   ],
   "source": [
    "df"
   ]
  },
  {
   "cell_type": "markdown",
   "metadata": {},
   "source": [
    "Finalmente intentamos con la búsqueda 3."
   ]
  },
  {
   "cell_type": "code",
   "execution_count": 35,
   "metadata": {},
   "outputs": [
    {
     "data": {
      "text/plain": [
       "'Maria'"
      ]
     },
     "execution_count": 35,
     "metadata": {},
     "output_type": "execute_result"
    }
   ],
   "source": [
    "bdi['Segundo_NOMBRE']=bdi.NOMBRES.str.split().str[1].fillna('')\n",
    "segundo_nombre=bdi.loc[i,'Segundo_NOMBRE'].strip()\n",
    "segundo_nombre"
   ]
  },
  {
   "cell_type": "code",
   "execution_count": 36,
   "metadata": {
    "collapsed": true
   },
   "outputs": [],
   "source": [
    "df=search_orcid('family-name:{}+AND+given-names:{}+AND+affiliation-org-name:{}'.format(\n",
    "                  apellido.replace(' ','+'), \n",
    "                  segundo_nombre.replace(' ','+'), affiliation.replace(' ','+') ) ,\n",
    "                search_token)"
   ]
  },
  {
   "cell_type": "code",
   "execution_count": 37,
   "metadata": {},
   "outputs": [
    {
     "data": {
      "text/html": [
       "<div>\n",
       "<table border=\"1\" class=\"dataframe\">\n",
       "  <thead>\n",
       "    <tr style=\"text-align: right;\">\n",
       "      <th></th>\n",
       "      <th>num-found</th>\n",
       "      <th>result</th>\n",
       "    </tr>\n",
       "  </thead>\n",
       "  <tbody>\n",
       "    <tr>\n",
       "      <th>0</th>\n",
       "      <td>1</td>\n",
       "      <td>{'orcid-identifier': {'path': '0000-0003-3253-1597', 'uri': 'https://orcid.org/0000-0003-3253-1597', 'host': 'orcid.org'}}</td>\n",
       "    </tr>\n",
       "  </tbody>\n",
       "</table>\n",
       "</div>"
      ],
      "text/plain": [
       "   num-found  \\\n",
       "0          1   \n",
       "\n",
       "                                                                                                                       result  \n",
       "0  {'orcid-identifier': {'path': '0000-0003-3253-1597', 'uri': 'https://orcid.org/0000-0003-3253-1597', 'host': 'orcid.org'}}  "
      ]
     },
     "execution_count": 37,
     "metadata": {},
     "output_type": "execute_result"
    }
   ],
   "source": [
    "df"
   ]
  },
  {
   "cell_type": "code",
   "execution_count": 38,
   "metadata": {},
   "outputs": [
    {
     "name": "stdout",
     "output_type": "stream",
     "text": [
      "0\n",
      "1\n",
      "2\n",
      "3\n",
      "4\n",
      "5\n"
     ]
    }
   ],
   "source": [
    "dft=pd.DataFrame()\n",
    "affiliation='Universidad de Antioquia'\n",
    "# Adicionar dos columnas nuevas al DataFrame para las búsquedas 2 y 3:\n",
    "bdi['Primer_NOMBRE']=bdi.NOMBRES.str.split().str[0]\n",
    "bdi['Segundo_NOMBRE']=bdi.NOMBRES.str.split().str[1].fillna('')\n",
    "for i in bdi.index:\n",
    "    df=pd.DataFrame()\n",
    "    print(i)\n",
    "    nombre_completo=bdi.loc[i,'NOMBRES'].strip()\n",
    "    nombre=bdi.loc[i,'Primer_NOMBRE'].strip()\n",
    "    segundo_nombre=bdi.loc[i,'Segundo_NOMBRE'].strip()\n",
    "    apellido=bdi.loc[i,'PRIMER APELLIDO'].strip()\n",
    "    apellido_completo=apellido+' '+bdi.loc[i,'SEGUNDO APELLIDO'].strip()\n",
    "    #1. Busqueda en completo\n",
    "    df=search_orcid('family-name:{}+AND+given-names:{}+AND+affiliation-org-name:{}'.format(\n",
    "                  apellido_completo.replace(' ','+'), \n",
    "                  nombre_completo.replace(' ','+'), affiliation.replace(' ','+') ) ,\n",
    "                search_token)\n",
    "    if not df.empty:\n",
    "        df['forma']=1\n",
    "    \n",
    "    #2. Búsqueda de primer nombre y primer appellido\n",
    "    if df.empty:\n",
    "        df=search_orcid('family-name:{}+AND+given-names:{}+AND+affiliation-org-name:{}'.format(\n",
    "                  apellido.replace(' ','+'), \n",
    "                  nombre.replace(' ','+'), affiliation.replace(' ','+') ) ,\n",
    "                search_token)\n",
    "        if not df.empty:\n",
    "            df['forma']=2\n",
    "\n",
    "        #3. Búsqueda de segundo nombre y primer appellido     \n",
    "        if df.empty and segundo_nombre:\n",
    "            df=search_orcid('family-name:{}+AND+given-names:{}+AND+affiliation-org-name:{}'.format(\n",
    "                  apellido.replace(' ','+'), \n",
    "                  segundo_nombre.replace(' ','+'), affiliation.replace(' ','+') ) ,\n",
    "                search_token)\n",
    "            if not df.empty:\n",
    "                df['forma']=3        \n",
    "\n",
    "    if i==5:\n",
    "        break\n",
    "                \n",
    "    if df.empty:\n",
    "        continue \n",
    "    else:\n",
    "        #inentar verificar y si funciona:\n",
    "        df['NOMBRE COMPLETO']=bdi.loc[i,'NOMBRE COMPLETO'].strip()\n",
    "        dft=dft.append(df.loc[[0]]).reset_index(drop=True)\n",
    "        \n"
   ]
  },
  {
   "cell_type": "code",
   "execution_count": 41,
   "metadata": {},
   "outputs": [
    {
     "data": {
      "text/html": [
       "<div>\n",
       "<table border=\"1\" class=\"dataframe\">\n",
       "  <thead>\n",
       "    <tr style=\"text-align: right;\">\n",
       "      <th></th>\n",
       "      <th>CÉDULA</th>\n",
       "      <th>NOMBRE COMPLETO</th>\n",
       "      <th>NOMBRES</th>\n",
       "      <th>PRIMER APELLIDO</th>\n",
       "      <th>SEGUNDO APELLIDO</th>\n",
       "      <th>FACULTAD</th>\n",
       "      <th>DEPARTAMENTO</th>\n",
       "      <th>GRUPO</th>\n",
       "      <th>Primer_NOMBRE</th>\n",
       "      <th>Segundo_NOMBRE</th>\n",
       "    </tr>\n",
       "  </thead>\n",
       "  <tbody>\n",
       "    <tr>\n",
       "      <th>0</th>\n",
       "      <td>71621971</td>\n",
       "      <td>Bernardo Maria Bustamante Cardona</td>\n",
       "      <td>Bernardo Maria</td>\n",
       "      <td>Bustamante</td>\n",
       "      <td>Cardona</td>\n",
       "      <td>Facultad de Artes</td>\n",
       "      <td>Departamento de Artes Visuales</td>\n",
       "      <td>Arteducación</td>\n",
       "      <td>Bernardo</td>\n",
       "      <td>Maria</td>\n",
       "    </tr>\n",
       "    <tr>\n",
       "      <th>1</th>\n",
       "      <td>71652139</td>\n",
       "      <td>Carlos Mario Jaramillo Ramirez</td>\n",
       "      <td>Carlos Mario</td>\n",
       "      <td>Jaramillo</td>\n",
       "      <td>Ramirez</td>\n",
       "      <td>Facultad de Artes</td>\n",
       "      <td>Departamento de Artes Visuales</td>\n",
       "      <td>DIDARTE. Didáctica de las artes</td>\n",
       "      <td>Carlos</td>\n",
       "      <td>Mario</td>\n",
       "    </tr>\n",
       "    <tr>\n",
       "      <th>2</th>\n",
       "      <td>43613390</td>\n",
       "      <td>Isabel Cristina Restrepo Acevedo</td>\n",
       "      <td>Isabel Cristina</td>\n",
       "      <td>Restrepo</td>\n",
       "      <td>Acevedo</td>\n",
       "      <td>Facultad de Artes</td>\n",
       "      <td>Departamento de Artes Visuales</td>\n",
       "      <td>Hipertrópico: Convergencia entre Arte y Tecnología</td>\n",
       "      <td>Isabel</td>\n",
       "      <td>Cristina</td>\n",
       "    </tr>\n",
       "    <tr>\n",
       "      <th>3</th>\n",
       "      <td>43986489</td>\n",
       "      <td>Alexandra Milena Tabares Garcia</td>\n",
       "      <td>Alexandra Milena</td>\n",
       "      <td>Tabares</td>\n",
       "      <td>Garcia</td>\n",
       "      <td>Facultad de Artes</td>\n",
       "      <td>Departamento de Artes Visuales</td>\n",
       "      <td>Hipertrópico: Convergencia entre Arte y Tecnología</td>\n",
       "      <td>Alexandra</td>\n",
       "      <td>Milena</td>\n",
       "    </tr>\n",
       "    <tr>\n",
       "      <th>4</th>\n",
       "      <td>15257718</td>\n",
       "      <td>Bernardo Barragan Castrillon</td>\n",
       "      <td>Bernardo</td>\n",
       "      <td>Barragan</td>\n",
       "      <td>Castrillon</td>\n",
       "      <td>Facultad de Artes</td>\n",
       "      <td>Departamento de Artes Visuales</td>\n",
       "      <td>Historia de la Práctica Pedagógica en Colombia</td>\n",
       "      <td>Bernardo</td>\n",
       "      <td></td>\n",
       "    </tr>\n",
       "  </tbody>\n",
       "</table>\n",
       "</div>"
      ],
      "text/plain": [
       "     CÉDULA                    NOMBRE COMPLETO            NOMBRES  \\\n",
       "0  71621971  Bernardo Maria Bustamante Cardona    Bernardo Maria    \n",
       "1  71652139     Carlos Mario Jaramillo Ramirez      Carlos Mario    \n",
       "2  43613390   Isabel Cristina Restrepo Acevedo   Isabel Cristina    \n",
       "3  43986489    Alexandra Milena Tabares Garcia  Alexandra Milena    \n",
       "4  15257718       Bernardo Barragan Castrillon         Bernardo     \n",
       "\n",
       "  PRIMER APELLIDO SEGUNDO APELLIDO           FACULTAD  \\\n",
       "0      Bustamante          Cardona  Facultad de Artes   \n",
       "1       Jaramillo          Ramirez  Facultad de Artes   \n",
       "2        Restrepo          Acevedo  Facultad de Artes   \n",
       "3         Tabares           Garcia  Facultad de Artes   \n",
       "4        Barragan       Castrillon  Facultad de Artes   \n",
       "\n",
       "                     DEPARTAMENTO  \\\n",
       "0  Departamento de Artes Visuales   \n",
       "1  Departamento de Artes Visuales   \n",
       "2  Departamento de Artes Visuales   \n",
       "3  Departamento de Artes Visuales   \n",
       "4  Departamento de Artes Visuales   \n",
       "\n",
       "                                                GRUPO Primer_NOMBRE  \\\n",
       "0                                       Arteducación       Bernardo   \n",
       "1                     DIDARTE. Didáctica de las artes        Carlos   \n",
       "2  Hipertrópico: Convergencia entre Arte y Tecnología        Isabel   \n",
       "3  Hipertrópico: Convergencia entre Arte y Tecnología     Alexandra   \n",
       "4      Historia de la Práctica Pedagógica en Colombia      Bernardo   \n",
       "\n",
       "  Segundo_NOMBRE  \n",
       "0          Maria  \n",
       "1          Mario  \n",
       "2       Cristina  \n",
       "3         Milena  \n",
       "4                 "
      ]
     },
     "execution_count": 41,
     "metadata": {},
     "output_type": "execute_result"
    }
   ],
   "source": [
    "bdi[:5]"
   ]
  },
  {
   "cell_type": "code",
   "execution_count": 79,
   "metadata": {},
   "outputs": [
    {
     "data": {
      "text/html": [
       "<div>\n",
       "<table border=\"1\" class=\"dataframe\">\n",
       "  <thead>\n",
       "    <tr style=\"text-align: right;\">\n",
       "      <th></th>\n",
       "      <th>num-found</th>\n",
       "      <th>result</th>\n",
       "      <th>forma</th>\n",
       "      <th>NOMBRE COMPLETO</th>\n",
       "    </tr>\n",
       "  </thead>\n",
       "  <tbody>\n",
       "    <tr>\n",
       "      <th>0</th>\n",
       "      <td>1</td>\n",
       "      <td>{'orcid-identifier': {'path': '0000-0003-3253-1597', 'uri': 'https://orcid.org/0000-0003-3253-1597', 'host': 'orcid.org'}}</td>\n",
       "      <td>3</td>\n",
       "      <td>Bernardo Maria Bustamante Cardona</td>\n",
       "    </tr>\n",
       "    <tr>\n",
       "      <th>1</th>\n",
       "      <td>2</td>\n",
       "      <td>{'orcid-identifier': {'path': '0000-0003-4969-8457', 'uri': 'https://orcid.org/0000-0003-4969-8457', 'host': 'orcid.org'}}</td>\n",
       "      <td>1</td>\n",
       "      <td>Carlos Mario Jaramillo Ramirez</td>\n",
       "    </tr>\n",
       "    <tr>\n",
       "      <th>2</th>\n",
       "      <td>1</td>\n",
       "      <td>{'orcid-identifier': {'path': '0000-0002-8235-3525', 'uri': 'https://orcid.org/0000-0002-8235-3525', 'host': 'orcid.org'}}</td>\n",
       "      <td>1</td>\n",
       "      <td>Isabel Cristina Restrepo Acevedo</td>\n",
       "    </tr>\n",
       "  </tbody>\n",
       "</table>\n",
       "</div>"
      ],
      "text/plain": [
       "   num-found  \\\n",
       "0          1   \n",
       "1          2   \n",
       "2          1   \n",
       "\n",
       "                                                                                                                       result  \\\n",
       "0  {'orcid-identifier': {'path': '0000-0003-3253-1597', 'uri': 'https://orcid.org/0000-0003-3253-1597', 'host': 'orcid.org'}}   \n",
       "1  {'orcid-identifier': {'path': '0000-0003-4969-8457', 'uri': 'https://orcid.org/0000-0003-4969-8457', 'host': 'orcid.org'}}   \n",
       "2  {'orcid-identifier': {'path': '0000-0002-8235-3525', 'uri': 'https://orcid.org/0000-0002-8235-3525', 'host': 'orcid.org'}}   \n",
       "\n",
       "   forma                    NOMBRE COMPLETO  \n",
       "0      3  Bernardo Maria Bustamante Cardona  \n",
       "1      1     Carlos Mario Jaramillo Ramirez  \n",
       "2      1   Isabel Cristina Restrepo Acevedo  "
      ]
     },
     "execution_count": 79,
     "metadata": {},
     "output_type": "execute_result"
    }
   ],
   "source": [
    "dft[:5]"
   ]
  },
  {
   "cell_type": "code",
   "execution_count": 80,
   "metadata": {},
   "outputs": [
    {
     "data": {
      "text/plain": [
       "0    https://orcid.org/0000-0003-3253-1597\n",
       "1    https://orcid.org/0000-0003-4969-8457\n",
       "2    https://orcid.org/0000-0002-8235-3525\n",
       "Name: result, dtype: object"
      ]
     },
     "execution_count": 80,
     "metadata": {},
     "output_type": "execute_result"
    }
   ],
   "source": [
    "dft['result'].map(lambda x: x['orcid-identifier']).map(lambda x: x['uri'])"
   ]
  },
  {
   "cell_type": "code",
   "execution_count": null,
   "metadata": {
    "collapsed": true
   },
   "outputs": [],
   "source": []
  },
  {
   "cell_type": "markdown",
   "metadata": {},
   "source": [
    "## Appendix"
   ]
  },
  {
   "cell_type": "code",
   "execution_count": 17,
   "metadata": {
    "collapsed": true
   },
   "outputs": [],
   "source": [
    "r=requests.get('http://docs.python-requests.org/en/master/')"
   ]
  },
  {
   "cell_type": "code",
   "execution_count": 23,
   "metadata": {},
   "outputs": [
    {
     "name": "stdout",
     "output_type": "stream",
     "text": [
      "\n",
      "<!DOCTYPE html PUBLIC \"-//W3C//DTD XHTML 1.0 Transitional//EN\"\n",
      "  \"http://www.w3.org/TR/xhtml1/DTD/xhtml1-transitional.dtd\">\n",
      "\n",
      "<html xmlns=\"http://www.w3.org/1999/xhtml\" lang=\"en\">\n",
      "  <head>\n",
      "    \n"
     ]
    }
   ],
   "source": [
    "print( r.text[:193] )"
   ]
  },
  {
   "cell_type": "code",
   "execution_count": null,
   "metadata": {
    "collapsed": true
   },
   "outputs": [],
   "source": []
  }
 ],
 "metadata": {
  "kernelspec": {
   "display_name": "Python 3",
   "language": "python",
   "name": "python3"
  },
  "language_info": {
   "codemirror_mode": {
    "name": "ipython",
    "version": 3
   },
   "file_extension": ".py",
   "mimetype": "text/x-python",
   "name": "python",
   "nbconvert_exporter": "python",
   "pygments_lexer": "ipython3",
   "version": "3.4.2"
  },
  "toc": {
   "colors": {
    "hover_highlight": "#DAA520",
    "running_highlight": "#FF0000",
    "selected_highlight": "#FFD700"
   },
   "moveMenuLeft": true,
   "nav_menu": {
    "height": "66px",
    "width": "252px"
   },
   "navigate_menu": true,
   "number_sections": true,
   "sideBar": true,
   "threshold": 4,
   "toc_cell": false,
   "toc_section_display": "block",
   "toc_window_display": false
  }
 },
 "nbformat": 4,
 "nbformat_minor": 2
}
